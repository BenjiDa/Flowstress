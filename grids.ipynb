{
 "cells": [
  {
   "cell_type": "code",
   "execution_count": 3,
   "metadata": {
    "collapsed": true
   },
   "outputs": [],
   "source": [
    "import numpy as np \n",
    "from scipy.constants.constants import C2K, K2C\n",
    "import math\n",
    "from scipy import optimize as opt # for optimization\n",
    "import matplotlib.pyplot as plt\n",
    "from matplotlib import cm\n",
    "from flow_stress.flow_stress import *"
   ]
  },
  {
   "cell_type": "code",
   "execution_count": 1,
   "metadata": {
    "collapsed": true
   },
   "outputs": [],
   "source": [
    "#testing testing testing\n",
    "temp = range(300, 600)\n",
    "pressure = [400]\n",
    "grain_size = range(3, 35, 3)#range(5,10)#[10,12,13,16,27,29]##[5,6,7,8,9,10,11,12,13,14,15,30] #List of grainsizes \n",
    "width = [30]"
   ]
  },
  {
   "cell_type": "code",
   "execution_count": 2,
   "metadata": {
    "collapsed": true
   },
   "outputs": [],
   "source": [
    "temperature= 790\n",
    "pressure = 550000000"
   ]
  },
  {
   "cell_type": "code",
   "execution_count": 11,
   "metadata": {
    "collapsed": false
   },
   "outputs": [
    {
     "ename": "NameError",
     "evalue": "name 'temperature' is not defined",
     "output_type": "error",
     "traceback": [
      "\u001b[0;31m---------------------------------------------------------------------------\u001b[0m",
      "\u001b[0;31mNameError\u001b[0m                                 Traceback (most recent call last)",
      "\u001b[0;32m<ipython-input-11-c47c4a7223d0>\u001b[0m in \u001b[0;36m<module>\u001b[0;34m()\u001b[0m\n\u001b[0;32m----> 1\u001b[0;31m \u001b[0mcalculate_coefficient_table\u001b[0m\u001b[0;34m(\u001b[0m\u001b[0mtemperature\u001b[0m\u001b[0;34m)\u001b[0m\u001b[0;34m\u001b[0m\u001b[0m\n\u001b[0m\u001b[1;32m      2\u001b[0m \u001b[0;32mprint\u001b[0m \u001b[0mCS\u001b[0m\u001b[0;34m\u001b[0m\u001b[0m\n\u001b[1;32m      3\u001b[0m \u001b[0;34m\u001b[0m\u001b[0m\n\u001b[1;32m      4\u001b[0m \u001b[0;31m#Optimizing equation to solve for volume\u001b[0m\u001b[0;34m\u001b[0m\u001b[0;34m\u001b[0m\u001b[0m\n\u001b[1;32m      5\u001b[0m \u001b[0;32mdef\u001b[0m \u001b[0mfugacity_optimizer\u001b[0m\u001b[0;34m(\u001b[0m\u001b[0mtemperature\u001b[0m\u001b[0;34m,\u001b[0m\u001b[0mpressure\u001b[0m\u001b[0;34m)\u001b[0m\u001b[0;34m:\u001b[0m\u001b[0;34m\u001b[0m\u001b[0m\n",
      "\u001b[0;31mNameError\u001b[0m: name 'temperature' is not defined"
     ]
    }
   ],
   "source": [
    "calculate_coefficient_table(temperature)\n",
    "print CS\n",
    "\n",
    "#Optimizing equation to solve for volume\n",
    "def fugacity_optimizer(temperature,pressure):\n",
    "\n",
    "    def fun(v):\n",
    "        return eos(temperature, v)- pressure\n",
    "    volume = opt.brentq(fun, 5, 30) #Volume in cc/mo\n",
    "\n",
    "    #Calculate fugacity \n",
    "    fugacity = PSfug(pressure, temperature, volume)\n",
    "    \n",
    "    return fugacity\n",
    "\n",
    "fugacity_optimizer(temperature, pressure)"
   ]
  },
  {
   "cell_type": "code",
   "execution_count": 33,
   "metadata": {
    "collapsed": false
   },
   "outputs": [
    {
     "data": {
      "text/plain": [
       "array([ 166.83294563,  191.98215191,  225.295237  ,  261.8241432 ])"
      ]
     },
     "execution_count": 33,
     "metadata": {},
     "output_type": "execute_result"
    }
   ],
   "source": [
    "fugacity_optimizer_vectorized(t,p)"
   ]
  },
  {
   "cell_type": "code",
   "execution_count": 6,
   "metadata": {
    "collapsed": false
   },
   "outputs": [
    {
     "data": {
      "text/plain": [
       "array([ 723.15,  775.  ,  780.  ,  790.  ])"
      ]
     },
     "execution_count": 6,
     "metadata": {},
     "output_type": "execute_result"
    }
   ],
   "source": [
    "t"
   ]
  },
  {
   "cell_type": "code",
   "execution_count": null,
   "metadata": {
    "collapsed": false
   },
   "outputs": [],
   "source": []
  },
  {
   "cell_type": "code",
   "execution_count": 1,
   "metadata": {
    "collapsed": false
   },
   "outputs": [
    {
     "ename": "NameError",
     "evalue": "global name 'calculate_coefficient_table' is not defined",
     "output_type": "error",
     "traceback": [
      "\u001b[0;31m---------------------------------------------------------------------------\u001b[0m",
      "\u001b[0;31mNameError\u001b[0m                                 Traceback (most recent call last)",
      "\u001b[0;32m<ipython-input-1-7792f37f9d63>\u001b[0m in \u001b[0;36m<module>\u001b[0;34m()\u001b[0m\n\u001b[1;32m     24\u001b[0m \u001b[0;31m#print(result_array)\u001b[0m\u001b[0;34m\u001b[0m\u001b[0;34m\u001b[0m\u001b[0m\n\u001b[1;32m     25\u001b[0m \u001b[0;34m\u001b[0m\u001b[0m\n\u001b[0;32m---> 26\u001b[0;31m \u001b[0mfugacity_optimizer_arrays\u001b[0m\u001b[0;34m(\u001b[0m\u001b[0mt\u001b[0m\u001b[0;34m,\u001b[0m\u001b[0mp\u001b[0m\u001b[0;34m)\u001b[0m\u001b[0;34m\u001b[0m\u001b[0m\n\u001b[0m\u001b[1;32m     27\u001b[0m \u001b[0;32mprint\u001b[0m\u001b[0;34m(\u001b[0m\u001b[0mCS\u001b[0m\u001b[0;34m)\u001b[0m\u001b[0;34m\u001b[0m\u001b[0m\n\u001b[1;32m     28\u001b[0m \u001b[0;32mprint\u001b[0m\u001b[0;34m(\u001b[0m\u001b[0mf\u001b[0m\u001b[0;34m)\u001b[0m\u001b[0;34m\u001b[0m\u001b[0m\n",
      "\u001b[0;32m<ipython-input-1-7792f37f9d63>\u001b[0m in \u001b[0;36mfugacity_optimizer_arrays\u001b[0;34m(temperature, pressure)\u001b[0m\n\u001b[1;32m     11\u001b[0m         \u001b[0;32mfor\u001b[0m \u001b[0mp\u001b[0m \u001b[0;32min\u001b[0m \u001b[0mpressure\u001b[0m\u001b[0;34m:\u001b[0m\u001b[0;34m\u001b[0m\u001b[0m\n\u001b[1;32m     12\u001b[0m         \u001b[0;31m#print t\u001b[0m\u001b[0;34m\u001b[0m\u001b[0;34m\u001b[0m\u001b[0m\n\u001b[0;32m---> 13\u001b[0;31m             \u001b[0mc\u001b[0m \u001b[0;34m=\u001b[0m \u001b[0mcalculate_coefficient_table\u001b[0m\u001b[0;34m(\u001b[0m\u001b[0mt\u001b[0m\u001b[0;34m)\u001b[0m\u001b[0;34m\u001b[0m\u001b[0m\n\u001b[0m\u001b[1;32m     14\u001b[0m             \u001b[0mCS\u001b[0m\u001b[0;34m[\u001b[0m\u001b[0mnum\u001b[0m\u001b[0;34m]\u001b[0m \u001b[0;34m=\u001b[0m \u001b[0mc\u001b[0m\u001b[0;34m\u001b[0m\u001b[0m\n\u001b[1;32m     15\u001b[0m             \u001b[0mfug\u001b[0m \u001b[0;34m=\u001b[0m \u001b[0mfugacity_optimizer\u001b[0m\u001b[0;34m(\u001b[0m\u001b[0mt\u001b[0m\u001b[0;34m,\u001b[0m\u001b[0mp\u001b[0m\u001b[0;34m)\u001b[0m\u001b[0;34m\u001b[0m\u001b[0m\n",
      "\u001b[0;31mNameError\u001b[0m: global name 'calculate_coefficient_table' is not defined"
     ]
    }
   ],
   "source": [
    "#from flow_stress.flow_stress import *\n",
    "from flow_stress.fugacity_calculator import *\n",
    "\n",
    "t = np.array([723.15, 775, 780, 790])\n",
    "p = np.array([400000000, 450000000, 500000000, 550000000])\n",
    "CS = np.empty((4,10))\n",
    "f = np.empty((len(t), len(t)))\n",
    "\n",
    "def fugacity_optimizer_arrays(temperature, pressure):\n",
    "    for num, t in enumerate(temperature):\n",
    "        for p in pressure:\n",
    "        #print t\n",
    "            #c = calculate_coefficient_table(t)\n",
    "            #CS[num] = c\n",
    "            #fug = fugacity_optimizer(t,p)\n",
    "            #f[num] = fug\n",
    "        #print c\n",
    "        #for p in pressure:\n",
    "            #fug = fugacity_optimizer(t,p)\n",
    "            #f[num] = fug\n",
    "            \n",
    "\n",
    "#result_array = fugacity_optimizer_vectorized(T, P)\n",
    "#print(result_array)\n",
    "\n",
    "fugacity_optimizer_arrays(t,p)\n",
    "print(CS)\n",
    "print(f)"
   ]
  },
  {
   "cell_type": "code",
   "execution_count": null,
   "metadata": {
    "collapsed": false
   },
   "outputs": [],
   "source": []
  },
  {
   "cell_type": "code",
   "execution_count": 4,
   "metadata": {
    "collapsed": false
   },
   "outputs": [
    {
     "name": "stdout",
     "output_type": "stream",
     "text": [
      "[[ 166.83294563  162.26045226  161.88411029  161.16160069]\n",
      " [ 199.22058476  191.98215191  191.37804672  190.21356113]\n",
      " [ 236.85165778  226.19048201  225.295237    223.56638182]\n",
      " [ 280.52380592  265.52646358  264.26402929  261.8241432 ]]\n"
     ]
    },
    {
     "data": {
      "image/png": "[encoded data removed]",
      "text/plain": [
       "<matplotlib.figure.Figure at 0x1112e9550>"
      ]
     },
     "metadata": {},
     "output_type": "display_data"
    }
   ],
   "source": [
    "t = np.array([723.15, 775, 780, 790])\n",
    "tC = K2C(t)\n",
    "p = np.array([400000000, 450000000, 500000000, 550000000])\n",
    "T, P = np.meshgrid(t,p)\n",
    "\n",
    "\n",
    "fugacity_optimizer_vectorized = np.vectorize(fugacity_optimizer)\n",
    "CS_vectorized = np.vectorize(calculate_coefficient_table)\n",
    "\n",
    "#CS_vectorized(T)#This is not quite right\n",
    "result_array = fugacity_optimizer_vectorized(T,P)\n",
    "print(result_array)\n",
    "\n",
    "im = plt.imshow(result_array, cmap=plt.cm.jet, aspect=\"auto\",extent=[min(tC),max(tC),550, 400])#interpolation=\"none\",\n",
    "plt.xlabel('Temperature (K)')\n",
    "plt.ylabel('Pressure (MPa)')\n",
    "plt.colorbar(im, label='Fugacity (MPa)')\n",
    "plt.show()"
   ]
  },
  {
   "cell_type": "code",
   "execution_count": 47,
   "metadata": {
    "collapsed": false
   },
   "outputs": [
    {
     "name": "stdout",
     "output_type": "stream",
     "text": [
      "[[ 1.  1.  1.  1.  1.  1.  1.  1.  1.  1.]\n",
      " [ 1.  1.  1.  1.  1.  1.  1.  1.  1.  1.]]\n",
      "[[ 2.  2.  2.  2.  2.  2.  2.  2.  2.  2.]\n",
      " [ 2.  2.  2.  2.  2.  2.  2.  2.  2.  2.]]\n"
     ]
    }
   ],
   "source": [
    "A = np.ones([2, 10])\n",
    "print(A)\n",
    "\n",
    "def f(x):\n",
    "    return x * x + 3 * x - 2 if x > 0 else x * 5 + 8\n",
    "\n",
    "fv = np.vectorize(f, otypes=[np.float])  \n",
    "\n",
    "\n",
    "\n",
    "result_array = fv(A)\n",
    "print(result_array)"
   ]
  },
  {
   "cell_type": "code",
   "execution_count": 41,
   "metadata": {
    "collapsed": false
   },
   "outputs": [
    {
     "ename": "TypeError",
     "evalue": "data type not understood",
     "output_type": "error",
     "traceback": [
      "\u001b[0;31m---------------------------------------------------------------------------\u001b[0m",
      "\u001b[0;31mTypeError\u001b[0m                                 Traceback (most recent call last)",
      "\u001b[0;32m<ipython-input-41-d30c8cf1032b>\u001b[0m in \u001b[0;36m<module>\u001b[0;34m()\u001b[0m\n\u001b[0;32m----> 1\u001b[0;31m \u001b[0mnp\u001b[0m\u001b[0;34m.\u001b[0m\u001b[0marray\u001b[0m\u001b[0;34m(\u001b[0m\u001b[0;34m[\u001b[0m\u001b[0;36m10\u001b[0m\u001b[0;34m,\u001b[0m \u001b[0;36m20\u001b[0m\u001b[0;34m,\u001b[0m \u001b[0;36m30\u001b[0m\u001b[0;34m,\u001b[0m \u001b[0;36m40\u001b[0m\u001b[0;34m,\u001b[0m \u001b[0;36m50\u001b[0m\u001b[0;34m]\u001b[0m\u001b[0;34m,\u001b[0m\u001b[0;34m[\u001b[0m\u001b[0;36m10\u001b[0m\u001b[0;34m,\u001b[0m \u001b[0;36m20\u001b[0m\u001b[0;34m,\u001b[0m \u001b[0;36m30\u001b[0m\u001b[0;34m,\u001b[0m \u001b[0;36m40\u001b[0m\u001b[0;34m,\u001b[0m \u001b[0;36m50\u001b[0m\u001b[0;34m]\u001b[0m\u001b[0;34m)\u001b[0m\u001b[0;34m\u001b[0m\u001b[0m\n\u001b[0m",
      "\u001b[0;31mTypeError\u001b[0m: data type not understood"
     ]
    }
   ],
   "source": [
    "np.array([10, 20, 30, 40, 50],[10, 20, 30, 40, 50])"
   ]
  },
  {
   "cell_type": "code",
   "execution_count": null,
   "metadata": {
    "collapsed": true
   },
   "outputs": [],
   "source": []
  },
  {
   "cell_type": "code",
   "execution_count": 6,
   "metadata": {
    "collapsed": false
   },
   "outputs": [
    {
     "name": "stdout",
     "output_type": "stream",
     "text": [
      "[86.11912549447844, 89.26649890835894, 86.69906427970614, 89.86527649018399]\n"
     ]
    }
   ],
   "source": [
    "CS = np.zeros([10])\n",
    "\n",
    "import numpy as np\n",
    "temp = range(400, 402)\n",
    "temp = C2K(temp)\n",
    "press = [400000000, 410000000]\n",
    "fug = []\n",
    "for t in temp:\n",
    "    for p in press:\n",
    "        cs = calculate_coefficient_table(t)\n",
    "        fu = fugacity_optimizer(t,p)\n",
    "        fug.append(fu)\n",
    "\n",
    "print(fug)"
   ]
  },
  {
   "cell_type": "code",
   "execution_count": 40,
   "metadata": {
    "collapsed": false
   },
   "outputs": [
    {
     "data": {
      "image/png": "[encoded data removed]",
      "text/plain": [
       "<matplotlib.figure.Figure at 0x10cc1b0d0>"
      ]
     },
     "metadata": {},
     "output_type": "display_data"
    },
    {
     "data": {
      "text/plain": [
       "array([[  2.29260000e+11,   2.30060000e+11,   2.30860000e+11,\n",
       "          2.31660000e+11],\n",
       "       [  2.30406300e+11,   2.31210300e+11,   2.32014300e+11,\n",
       "          2.32818300e+11],\n",
       "       [  2.31552600e+11,   2.32360600e+11,   2.33168600e+11,\n",
       "          2.33976600e+11],\n",
       "       [  2.32698900e+11,   2.33510900e+11,   2.34322900e+11,\n",
       "          2.35134900e+11]])"
      ]
     },
     "execution_count": 40,
     "metadata": {},
     "output_type": "execute_result"
    }
   ],
   "source": [
    "t = np.linspace(300, 306, 4, dtype=int)\n",
    "t = C2K(t)\n",
    "p = np.linspace(400, 406, 4, dtype=int)\n",
    "p = p*1.0E6\n",
    "\n",
    "def mesh_fun(xx, yy):\n",
    "    zz = xx*yy\n",
    "    return zz \n",
    "\n",
    "tt, pp = np.meshgrid(t, p)\n",
    "\n",
    "zz = mesh_fun(tt, pp)\n",
    "\n",
    "plt.imshow(zz)\n",
    "plt.show()\n",
    "zz"
   ]
  },
  {
   "cell_type": "code",
   "execution_count": null,
   "metadata": {
    "collapsed": false
   },
   "outputs": [],
   "source": []
  },
  {
   "cell_type": "code",
   "execution_count": 1,
   "metadata": {
    "collapsed": false
   },
   "outputs": [
    {
     "data": {
      "text/plain": [
       "116.6204752272425"
      ]
     },
     "execution_count": 1,
     "metadata": {},
     "output_type": "execute_result"
    }
   ],
   "source": []
  },
  {
   "cell_type": "code",
   "execution_count": 10,
   "metadata": {
    "collapsed": false
   },
   "outputs": [],
   "source": []
  },
  {
   "cell_type": "code",
   "execution_count": 11,
   "metadata": {
    "collapsed": false
   },
   "outputs": [
    {
     "data": {
      "text/plain": [
       "116.6204752272425"
      ]
     },
     "execution_count": 11,
     "metadata": {},
     "output_type": "execute_result"
    }
   ],
   "source": []
  },
  {
   "cell_type": "code",
   "execution_count": 5,
   "metadata": {
    "collapsed": true
   },
   "outputs": [],
   "source": []
  },
  {
   "cell_type": "code",
   "execution_count": null,
   "metadata": {
    "collapsed": false
   },
   "outputs": [],
   "source": []
  },
  {
   "cell_type": "code",
   "execution_count": null,
   "metadata": {
    "collapsed": true
   },
   "outputs": [],
   "source": []
  },
  {
   "cell_type": "code",
   "execution_count": null,
   "metadata": {
    "collapsed": true
   },
   "outputs": [],
   "source": []
  }
 ],
 "metadata": {
  "anaconda-cloud": {},
  "kernelspec": {
   "display_name": "Python [conda root]",
   "language": "python",
   "name": "conda-root-py"
  },
  "language_info": {
   "codemirror_mode": {
    "name": "ipython",
    "version": 2
   },
   "file_extension": ".py",
   "mimetype": "text/x-python",
   "name": "python",
   "nbconvert_exporter": "python",
   "pygments_lexer": "ipython2",
   "version": "2.7.12"
  }
 },
 "nbformat": 4,
 "nbformat_minor": 1
}
