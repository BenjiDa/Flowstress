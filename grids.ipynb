{
 "cells": [
  {
   "cell_type": "code",
   "execution_count": 1,
   "metadata": {
    "collapsed": true
   },
   "outputs": [],
   "source": [
    "import numpy as np \n",
    "from scipy.constants.constants import C2K, K2C\n",
    "import math\n",
    "from scipy import optimize as opt # for optimization\n",
    "import matplotlib.pyplot as plt\n",
    "from matplotlib import cm\n",
    "from flow_stress.flow_stress import *"
   ]
  },
  {
   "cell_type": "code",
   "execution_count": 23,
   "metadata": {
    "collapsed": true
   },
   "outputs": [],
   "source": [
    "#testing testing testing\n",
    "temp = range(300, 600)\n",
    "pressure = [400]\n",
    "grain_size = range(3, 35, 3)#range(5,10)#[10,12,13,16,27,29]##[5,6,7,8,9,10,11,12,13,14,15,30] #List of grainsizes \n",
    "width = [30]"
   ]
  },
  {
   "cell_type": "code",
   "execution_count": 19,
   "metadata": {
    "collapsed": true
   },
   "outputs": [],
   "source": [
    "temperature= 723\n",
    "pressure = 400000000"
   ]
  },
  {
   "cell_type": "code",
   "execution_count": 20,
   "metadata": {
    "collapsed": false
   },
   "outputs": [
    {
     "name": "stdout",
     "output_type": "stream",
     "text": [
      "[  3.92406811e+02   2.06308990e-02   2.72861397e-01  -4.39001837e-01\n",
      "   4.66093605e+01   1.09178830e-01   1.91240538e+02   9.74595882e+01\n",
      "  -1.35436597e+00   2.49844499e+02]\n"
     ]
    }
   ],
   "source": [
    "calculate_coefficient_table(temperature)\n",
    "print CS\n",
    "\n",
    "#Optimizing equation to solve for volume\n",
    "def fugacity_optimizer(temperature,pressure):\n",
    "\n",
    "    def fun(v):\n",
    "        return eos(temperature, v)- pressure\n",
    "    volume = opt.brentq(fun, 5, 30) #Volume in cc/mo\n",
    "\n",
    "    #Calculate fugacity \n",
    "    fugacity = PSfug(pressure, temperature, volume)\n",
    "    \n",
    "    return fugacity\n",
    "\n"
   ]
  },
  {
   "cell_type": "code",
   "execution_count": 21,
   "metadata": {
    "collapsed": false
   },
   "outputs": [
    {
     "data": {
      "text/plain": [
       "116.6204752272425"
      ]
     },
     "execution_count": 21,
     "metadata": {},
     "output_type": "execute_result"
    }
   ],
   "source": [
    "fugacity_optimizer(temperature, pressure)"
   ]
  },
  {
   "cell_type": "code",
   "execution_count": 71,
   "metadata": {
    "collapsed": false
   },
   "outputs": [
    {
     "data": {
      "text/plain": [
       "400000000"
      ]
     },
     "execution_count": 71,
     "metadata": {},
     "output_type": "execute_result"
    }
   ],
   "source": [
    "min(p)"
   ]
  },
  {
   "cell_type": "code",
   "execution_count": 84,
   "metadata": {
    "collapsed": false
   },
   "outputs": [
    {
     "name": "stdout",
     "output_type": "stream",
     "text": [
      "[[ 116.61099121  113.78768773  113.55866381  113.12082534]\n",
      " [ 138.49034277  133.88534084  133.50398644  132.77049306]\n",
      " [ 163.86853676  156.98036304  156.40468108  155.29442713]\n",
      " [ 193.27142892  183.49502576  182.67463295  181.09045112]]\n"
     ]
    },
    {
     "data": {
      "image/png": "[encoded data removed]",
      "text/plain": [
       "<matplotlib.figure.Figure at 0x113b6a850>"
      ]
     },
     "metadata": {},
     "output_type": "display_data"
    }
   ],
   "source": [
    "t = np.array([723.15, 775, 780, 790])\n",
    "p = np.array([400000000, 450000000, 500000000, 550000000])\n",
    "T, P = np.meshgrid(t,p)\n",
    "\n",
    "fugacity_optimizer_vectorized = np.vectorize(fugacity_optimizer)\n",
    "\n",
    "result_array = fugacity_optimizer_vectorized(T, P)\n",
    "print(result_array)\n",
    "\n",
    "im = plt.imshow(result_array, cmap=plt.cm.Blues, interpolation=\"none\", aspect=\"auto\",extent=[min(t),max(t),550, 400])\n",
    "plt.xlabel('Temperature (K)')\n",
    "plt.ylabel('Pressure (MPa)')\n",
    "plt.colorbar(im, label='Fugacity (MPa)')\n",
    "plt.show()"
   ]
  },
  {
   "cell_type": "code",
   "execution_count": 47,
   "metadata": {
    "collapsed": false
   },
   "outputs": [
    {
     "name": "stdout",
     "output_type": "stream",
     "text": [
      "[[ 1.  1.  1.  1.  1.  1.  1.  1.  1.  1.]\n",
      " [ 1.  1.  1.  1.  1.  1.  1.  1.  1.  1.]]\n",
      "[[ 2.  2.  2.  2.  2.  2.  2.  2.  2.  2.]\n",
      " [ 2.  2.  2.  2.  2.  2.  2.  2.  2.  2.]]\n"
     ]
    }
   ],
   "source": [
    "A = np.ones([2, 10])\n",
    "print(A)\n",
    "\n",
    "def f(x):\n",
    "    return x * x + 3 * x - 2 if x > 0 else x * 5 + 8\n",
    "\n",
    "fv = np.vectorize(f, otypes=[np.float])  \n",
    "\n",
    "\n",
    "\n",
    "result_array = fv(A)\n",
    "print(result_array)"
   ]
  },
  {
   "cell_type": "code",
   "execution_count": 41,
   "metadata": {
    "collapsed": false
   },
   "outputs": [
    {
     "ename": "TypeError",
     "evalue": "data type not understood",
     "output_type": "error",
     "traceback": [
      "\u001b[0;31m---------------------------------------------------------------------------\u001b[0m",
      "\u001b[0;31mTypeError\u001b[0m                                 Traceback (most recent call last)",
      "\u001b[0;32m<ipython-input-41-d30c8cf1032b>\u001b[0m in \u001b[0;36m<module>\u001b[0;34m()\u001b[0m\n\u001b[0;32m----> 1\u001b[0;31m \u001b[0mnp\u001b[0m\u001b[0;34m.\u001b[0m\u001b[0marray\u001b[0m\u001b[0;34m(\u001b[0m\u001b[0;34m[\u001b[0m\u001b[0;36m10\u001b[0m\u001b[0;34m,\u001b[0m \u001b[0;36m20\u001b[0m\u001b[0;34m,\u001b[0m \u001b[0;36m30\u001b[0m\u001b[0;34m,\u001b[0m \u001b[0;36m40\u001b[0m\u001b[0;34m,\u001b[0m \u001b[0;36m50\u001b[0m\u001b[0;34m]\u001b[0m\u001b[0;34m,\u001b[0m\u001b[0;34m[\u001b[0m\u001b[0;36m10\u001b[0m\u001b[0;34m,\u001b[0m \u001b[0;36m20\u001b[0m\u001b[0;34m,\u001b[0m \u001b[0;36m30\u001b[0m\u001b[0;34m,\u001b[0m \u001b[0;36m40\u001b[0m\u001b[0;34m,\u001b[0m \u001b[0;36m50\u001b[0m\u001b[0;34m]\u001b[0m\u001b[0;34m)\u001b[0m\u001b[0;34m\u001b[0m\u001b[0m\n\u001b[0m",
      "\u001b[0;31mTypeError\u001b[0m: data type not understood"
     ]
    }
   ],
   "source": [
    "np.array([10, 20, 30, 40, 50],[10, 20, 30, 40, 50])"
   ]
  },
  {
   "cell_type": "code",
   "execution_count": null,
   "metadata": {
    "collapsed": true
   },
   "outputs": [],
   "source": []
  },
  {
   "cell_type": "code",
   "execution_count": 6,
   "metadata": {
    "collapsed": false
   },
   "outputs": [
    {
     "name": "stdout",
     "output_type": "stream",
     "text": [
      "[86.11912549447844, 89.26649890835894, 86.69906427970614, 89.86527649018399]\n"
     ]
    }
   ],
   "source": [
    "CS = np.zeros([10])\n",
    "\n",
    "import numpy as np\n",
    "temp = range(400, 402)\n",
    "temp = C2K(temp)\n",
    "press = [400000000, 410000000]\n",
    "fug = []\n",
    "for t in temp:\n",
    "    for p in press:\n",
    "        cs = calculate_coefficient_table(t)\n",
    "        fu = fugacity_optimizer(t,p)\n",
    "        fug.append(fu)\n",
    "\n",
    "print(fug)"
   ]
  },
  {
   "cell_type": "code",
   "execution_count": 40,
   "metadata": {
    "collapsed": false
   },
   "outputs": [
    {
     "data": {
      "image/png": "[encoded data removed]",
      "text/plain": [
       "<matplotlib.figure.Figure at 0x10cc1b0d0>"
      ]
     },
     "metadata": {},
     "output_type": "display_data"
    },
    {
     "data": {
      "text/plain": [
       "array([[  2.29260000e+11,   2.30060000e+11,   2.30860000e+11,\n",
       "          2.31660000e+11],\n",
       "       [  2.30406300e+11,   2.31210300e+11,   2.32014300e+11,\n",
       "          2.32818300e+11],\n",
       "       [  2.31552600e+11,   2.32360600e+11,   2.33168600e+11,\n",
       "          2.33976600e+11],\n",
       "       [  2.32698900e+11,   2.33510900e+11,   2.34322900e+11,\n",
       "          2.35134900e+11]])"
      ]
     },
     "execution_count": 40,
     "metadata": {},
     "output_type": "execute_result"
    }
   ],
   "source": [
    "t = np.linspace(300, 306, 4, dtype=int)\n",
    "t = C2K(t)\n",
    "p = np.linspace(400, 406, 4, dtype=int)\n",
    "p = p*1.0E6\n",
    "\n",
    "def mesh_fun(xx, yy):\n",
    "    zz = xx*yy\n",
    "    return zz \n",
    "\n",
    "tt, pp = np.meshgrid(t, p)\n",
    "\n",
    "zz = mesh_fun(tt, pp)\n",
    "\n",
    "plt.imshow(zz)\n",
    "plt.show()\n",
    "zz"
   ]
  },
  {
   "cell_type": "code",
   "execution_count": 35,
   "metadata": {
    "collapsed": false
   },
   "outputs": [
    {
     "name": "stdout",
     "output_type": "stream",
     "text": [
      "<type 'numpy.ndarray'>\n",
      "[ 573.15  575.15  577.15  579.15]\n"
     ]
    },
    {
     "ename": "TypeError",
     "evalue": "only length-1 arrays can be converted to Python scalars",
     "output_type": "error",
     "traceback": [
      "\u001b[0;31m---------------------------------------------------------------------------\u001b[0m",
      "\u001b[0;31mTypeError\u001b[0m                                 Traceback (most recent call last)",
      "\u001b[0;32m<ipython-input-35-ee51ef71a2b0>\u001b[0m in \u001b[0;36m<module>\u001b[0;34m()\u001b[0m\n\u001b[1;32m      4\u001b[0m \u001b[0;32mfor\u001b[0m \u001b[0mi\u001b[0m \u001b[0;32min\u001b[0m \u001b[0mtt\u001b[0m\u001b[0;34m:\u001b[0m\u001b[0;34m\u001b[0m\u001b[0m\n\u001b[1;32m      5\u001b[0m     \u001b[0;32mfor\u001b[0m \u001b[0mj\u001b[0m \u001b[0;32min\u001b[0m \u001b[0mpp\u001b[0m\u001b[0;34m:\u001b[0m\u001b[0;34m\u001b[0m\u001b[0m\n\u001b[0;32m----> 6\u001b[0;31m         \u001b[0mcs\u001b[0m \u001b[0;34m=\u001b[0m \u001b[0mcalculate_coefficient_table\u001b[0m\u001b[0;34m(\u001b[0m\u001b[0mi\u001b[0m\u001b[0;34m)\u001b[0m\u001b[0;34m\u001b[0m\u001b[0m\n\u001b[0m\u001b[1;32m      7\u001b[0m         \u001b[0mfu\u001b[0m \u001b[0;34m=\u001b[0m \u001b[0mfugacity_optimizer\u001b[0m\u001b[0;34m(\u001b[0m\u001b[0mi\u001b[0m\u001b[0;34m,\u001b[0m\u001b[0mj\u001b[0m\u001b[0;34m)\u001b[0m\u001b[0;34m\u001b[0m\u001b[0m\n\u001b[1;32m      8\u001b[0m         \u001b[0mfug\u001b[0m\u001b[0;34m.\u001b[0m\u001b[0mappend\u001b[0m\u001b[0;34m(\u001b[0m\u001b[0mfu\u001b[0m\u001b[0;34m)\u001b[0m\u001b[0;34m\u001b[0m\u001b[0m\n",
      "\u001b[0;32m<ipython-input-4-aaf21f17a52c>\u001b[0m in \u001b[0;36mcalculate_coefficient_table\u001b[0;34m(temperature)\u001b[0m\n\u001b[1;32m      1\u001b[0m \u001b[0;32mdef\u001b[0m \u001b[0mcalculate_coefficient_table\u001b[0m\u001b[0;34m(\u001b[0m\u001b[0mtemperature\u001b[0m\u001b[0;34m)\u001b[0m\u001b[0;34m:\u001b[0m\u001b[0;34m\u001b[0m\u001b[0m\n\u001b[1;32m      2\u001b[0m     \u001b[0;32mfor\u001b[0m \u001b[0mi\u001b[0m \u001b[0;32min\u001b[0m \u001b[0mrange\u001b[0m\u001b[0;34m(\u001b[0m\u001b[0;36m0\u001b[0m\u001b[0;34m,\u001b[0m \u001b[0mlen\u001b[0m\u001b[0;34m(\u001b[0m\u001b[0mPS_COEFF\u001b[0m\u001b[0;34m)\u001b[0m\u001b[0;34m)\u001b[0m\u001b[0;34m:\u001b[0m\u001b[0;34m\u001b[0m\u001b[0m\n\u001b[0;32m----> 3\u001b[0;31m         \u001b[0mCS\u001b[0m\u001b[0;34m[\u001b[0m\u001b[0mi\u001b[0m\u001b[0;34m]\u001b[0m\u001b[0;34m=\u001b[0m\u001b[0mPS_COEFF\u001b[0m\u001b[0;34m[\u001b[0m\u001b[0mi\u001b[0m\u001b[0;34m]\u001b[0m\u001b[0;34m[\u001b[0m\u001b[0;36m0\u001b[0m\u001b[0;34m]\u001b[0m\u001b[0;34m*\u001b[0m\u001b[0mmath\u001b[0m\u001b[0;34m.\u001b[0m\u001b[0mpow\u001b[0m\u001b[0;34m(\u001b[0m\u001b[0mtemperature\u001b[0m\u001b[0;34m,\u001b[0m\u001b[0;34m-\u001b[0m\u001b[0;36m4\u001b[0m\u001b[0;34m)\u001b[0m\u001b[0;34m+\u001b[0m\u001b[0mPS_COEFF\u001b[0m\u001b[0;34m[\u001b[0m\u001b[0mi\u001b[0m\u001b[0;34m]\u001b[0m\u001b[0;34m[\u001b[0m\u001b[0;36m1\u001b[0m\u001b[0;34m]\u001b[0m\u001b[0;34m*\u001b[0m\u001b[0mmath\u001b[0m\u001b[0;34m.\u001b[0m\u001b[0mpow\u001b[0m\u001b[0;34m(\u001b[0m\u001b[0mtemperature\u001b[0m\u001b[0;34m,\u001b[0m\u001b[0;34m-\u001b[0m\u001b[0;36m2\u001b[0m\u001b[0;34m)\u001b[0m        \u001b[0;34m+\u001b[0m\u001b[0mPS_COEFF\u001b[0m\u001b[0;34m[\u001b[0m\u001b[0mi\u001b[0m\u001b[0;34m]\u001b[0m\u001b[0;34m[\u001b[0m\u001b[0;36m2\u001b[0m\u001b[0;34m]\u001b[0m\u001b[0;34m*\u001b[0m\u001b[0mmath\u001b[0m\u001b[0;34m.\u001b[0m\u001b[0mpow\u001b[0m\u001b[0;34m(\u001b[0m\u001b[0mtemperature\u001b[0m\u001b[0;34m,\u001b[0m\u001b[0;34m-\u001b[0m\u001b[0;36m1\u001b[0m\u001b[0;34m)\u001b[0m        \u001b[0;34m+\u001b[0m\u001b[0mPS_COEFF\u001b[0m\u001b[0;34m[\u001b[0m\u001b[0mi\u001b[0m\u001b[0;34m]\u001b[0m\u001b[0;34m[\u001b[0m\u001b[0;36m3\u001b[0m\u001b[0;34m]\u001b[0m\u001b[0;34m+\u001b[0m\u001b[0mPS_COEFF\u001b[0m\u001b[0;34m[\u001b[0m\u001b[0mi\u001b[0m\u001b[0;34m]\u001b[0m\u001b[0;34m[\u001b[0m\u001b[0;36m4\u001b[0m\u001b[0;34m]\u001b[0m\u001b[0;34m*\u001b[0m\u001b[0mtemperature\u001b[0m\u001b[0;34m+\u001b[0m\u001b[0mPS_COEFF\u001b[0m\u001b[0;34m[\u001b[0m\u001b[0mi\u001b[0m\u001b[0;34m]\u001b[0m\u001b[0;34m[\u001b[0m\u001b[0;36m5\u001b[0m\u001b[0;34m]\u001b[0m\u001b[0;34m*\u001b[0m\u001b[0mmath\u001b[0m\u001b[0;34m.\u001b[0m\u001b[0mpow\u001b[0m\u001b[0;34m(\u001b[0m\u001b[0mtemperature\u001b[0m\u001b[0;34m,\u001b[0m\u001b[0;36m2\u001b[0m\u001b[0;34m)\u001b[0m\u001b[0;34m\u001b[0m\u001b[0m\n\u001b[0m\u001b[1;32m      4\u001b[0m     \u001b[0;32mreturn\u001b[0m \u001b[0mCS\u001b[0m\u001b[0;34m\u001b[0m\u001b[0m\n\u001b[1;32m      5\u001b[0m \u001b[0;34m\u001b[0m\u001b[0m\n",
      "\u001b[0;31mTypeError\u001b[0m: only length-1 arrays can be converted to Python scalars"
     ]
    }
   ],
   "source": [
    "fug = []\n",
    "print(type(t))\n",
    "print(t)\n",
    "for i in tt:\n",
    "    for j in pp:\n",
    "        cs = calculate_coefficient_table(i)\n",
    "        fu = fugacity_optimizer(i,j)\n",
    "        fug.append(fu)\n",
    "print fug"
   ]
  },
  {
   "cell_type": "code",
   "execution_count": 51,
   "metadata": {
    "collapsed": false
   },
   "outputs": [
    {
     "name": "stdout",
     "output_type": "stream",
     "text": [
      "[  5.13599510e+01   0.00000000e+00   0.00000000e+00  -4.27198750e-01\n",
      "  -1.65801670e+01   1.09178830e-01   7.55911050e+00   1.88106750e+02\n",
      "  -2.35303180e+01   1.22467770e+02]\n"
     ]
    }
   ],
   "source": [
    "CS = np.zeros([10])\n",
    "temperature = 659#[400]#, 401]#range(400, 402)\n",
    "\n",
    "for i in range(0, len(PS_COEFF)):\n",
    "    #for j in temperature:\n",
    "    CS[i]=PS_COEFF[i][0]*np.power(temperature,-4)+PS_COEFF[i][1]*np.power(temperature,-2)\\\n",
    "    +PS_COEFF[i][2]*np.power(temperature,-1)\\\n",
    "    +PS_COEFF[i][3]+PS_COEFF[i][4]*temperature+PS_COEFF[i][5]*np.power(temperature,2)\n",
    "    \n",
    "\n",
    "print CS"
   ]
  },
  {
   "cell_type": "code",
   "execution_count": 31,
   "metadata": {
    "collapsed": false
   },
   "outputs": [
    {
     "name": "stdout",
     "output_type": "stream",
     "text": [
      "[  5.13599510e+01   0.00000000e+00   0.00000000e+00  -4.27198750e-01\n",
      "  -1.65801670e+01   1.09178830e-01   7.55911050e+00   1.88106750e+02\n",
      "  -2.35303180e+01   1.22467770e+02]\n"
     ]
    }
   ],
   "source": [
    "CS2 = np.zeros([10])\n",
    "temperature = 701#[400]#, 401]#range(400, 402)\n",
    "\n",
    "for i in range(0, len(PS_COEFF)):\n",
    "    #for j in temperature:\n",
    "    CS2[i]=PS_COEFF[i][0]*np.power(temperature,-4)+PS_COEFF[i][1]*np.power(temperature,-2)\\\n",
    "    +PS_COEFF[i][2]*np.power(temperature,-1)\\\n",
    "    +PS_COEFF[i][3]+PS_COEFF[i][4]*temperature+PS_COEFF[i][5]*np.power(temperature,2)\n",
    "    \n",
    "print CS2"
   ]
  },
  {
   "cell_type": "code",
   "execution_count": 36,
   "metadata": {
    "collapsed": false
   },
   "outputs": [
    {
     "name": "stdout",
     "output_type": "stream",
     "text": [
      "[  5.13599510e+01   0.00000000e+00   0.00000000e+00  -4.27198750e-01\n",
      "  -1.65801670e+01   1.09178830e-01   7.55911050e+00   1.88106750e+02\n",
      "  -2.35303180e+01   1.22467770e+02]\n"
     ]
    }
   ],
   "source": [
    "CS3 = np.zeros([10])\n",
    "temperature = 772#[400]#, 401]#range(400, 402)\n",
    "\n",
    "for i in range(0, len(PS_COEFF)):\n",
    "    #for j in temperature:\n",
    "    CS3[i]=PS_COEFF[i][0]*np.power(temperature,-4)+PS_COEFF[i][1]*np.power(temperature,-2)\\\n",
    "    +PS_COEFF[i][2]*np.power(temperature,-1)\\\n",
    "    +PS_COEFF[i][3]+PS_COEFF[i][4]*temperature+PS_COEFF[i][5]*np.power(temperature,2)\n",
    "\n",
    "print CS3"
   ]
  },
  {
   "cell_type": "code",
   "execution_count": 34,
   "metadata": {
    "collapsed": true
   },
   "outputs": [],
   "source": [
    "del CS, CS2, CS3"
   ]
  },
  {
   "cell_type": "code",
   "execution_count": null,
   "metadata": {
    "collapsed": false
   },
   "outputs": [],
   "source": []
  },
  {
   "cell_type": "code",
   "execution_count": null,
   "metadata": {
    "collapsed": true
   },
   "outputs": [],
   "source": [
    "#Learning MeshGrid \n",
    "\n",
    "\n",
    "# tt, pp = np.meshgrid(np.linspace(300, 400, 25), np.linspace(100, 600, 25))\n",
    "# tt_K = C2K(np.array(tt))\n",
    "# pp_P = np.array(pp)*1.0E6\n",
    "# tt.shape\n",
    "\n",
    "\n",
    "tt, pp = np.meshgrid(np.linspace(300, 306, 3), np.linspace(400, 406, 3))\n",
    "#print tt\n",
    "\n",
    "a = np.linspace(300, 306, 4)\n",
    "b = np.linspace(400, 406, 4)\n",
    "aa, bb = np.meshgrid(a, b)\n",
    "# print(aa)\n",
    "# print(bb)\n",
    "\n",
    "cc = aa*bb\n",
    "plt.imshow(cc)\n",
    "plt.show()"
   ]
  }
 ],
 "metadata": {
  "anaconda-cloud": {},
  "kernelspec": {
   "display_name": "Python [conda root]",
   "language": "python",
   "name": "conda-root-py"
  },
  "language_info": {
   "codemirror_mode": {
    "name": "ipython",
    "version": 2
   },
   "file_extension": ".py",
   "mimetype": "text/x-python",
   "name": "python",
   "nbconvert_exporter": "python",
   "pygments_lexer": "ipython2",
   "version": "2.7.12"
  }
 },
 "nbformat": 4,
 "nbformat_minor": 1
}
