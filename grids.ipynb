{
 "cells": [
  {
   "cell_type": "code",
   "execution_count": 1,
   "metadata": {
    "collapsed": true
   },
   "outputs": [],
   "source": [
    "import numpy as np \n",
    "from scipy.constants.constants import C2K, K2C\n",
    "import math\n",
    "from scipy import optimize as opt # for optimization\n",
    "import matplotlib.pyplot as plt\n",
    "from matplotlib import cm"
   ]
  },
  {
   "cell_type": "code",
   "execution_count": 29,
   "metadata": {
    "collapsed": true
   },
   "outputs": [],
   "source": [
    "\n",
    "PS_COEFF = np.zeros([10,10])\n",
    "PS_COEFF[0][2]=0.24657688*np.power(10,6)\n",
    "PS_COEFF[0][3]=0.51359951*np.power(10,2) \n",
    "PS_COEFF[1][2]=0.58638965*np.power(10,0) \n",
    "PS_COEFF[1][3]=-0.28646939*np.power(10,-2) \n",
    "PS_COEFF[1][4]=0.31375577*np.power(10,-4) \n",
    "PS_COEFF[2][2]=-0.62783840*np.power(10,1) \n",
    "PS_COEFF[2][3]=0.14791599*np.power(10,-1) \n",
    "PS_COEFF[2][4]=0.35779579*np.power(10,-3) \n",
    "PS_COEFF[2][5]=0.15432925*np.power(10,-7) \n",
    "PS_COEFF[3][3]=-0.42719875*np.power(10,0) \n",
    "PS_COEFF[3][4]=-0.16325155*np.power(10,-4) \n",
    "PS_COEFF[4][2]=0.56654978*np.power(10,4) \n",
    "PS_COEFF[4][3]=-0.16580167*np.power(10,2) \n",
    "PS_COEFF[4][4]=0.76560762*np.power(10,-1) \n",
    "PS_COEFF[5][3]=0.10917883*np.power(10,0) \n",
    "PS_COEFF[6][0]=0.38878656*np.power(10,13) \n",
    "PS_COEFF[6][1]=-0.13494878*np.power(10,9) \n",
    "PS_COEFF[6][2]=0.30916564*np.power(10,6)\n",
    "PS_COEFF[6][3]=0.75591105*np.power(10,1) \n",
    "PS_COEFF[7][2]=-0.65537898*np.power(10,5) \n",
    "PS_COEFF[7][3]=0.18810675*np.power(10,3) \n",
    "PS_COEFF[8][0]=-0.14182435*np.power(10,14) \n",
    "PS_COEFF[8][1]=0.18165390*np.power(10,9) \n",
    "PS_COEFF[8][2]=-0.19769068*np.power(10,6)\n",
    "PS_COEFF[8][3]=-0.23530318*np.power(10,2)\n",
    "PS_COEFF[9][2]=0.92093375*np.power(10,5)\n",
    "PS_COEFF[9][3]=0.12246777*np.power(10,3)\n",
    "\n",
    "CS = np.zeros([10]) "
   ]
  },
  {
   "cell_type": "code",
   "execution_count": 49,
   "metadata": {
    "collapsed": false
   },
   "outputs": [],
   "source": [
    "def calculate_coefficient_table(temperature):\n",
    "    for i in range(0, len(PS_COEFF)):\n",
    "        CS[i]=PS_COEFF[i][0]*np.power(temperature,-4)+PS_COEFF[i][1]*np.power(temperature,-2)\\\n",
    "        +PS_COEFF[i][2]*np.power(temperature,-1)\\\n",
    "        +PS_COEFF[i][3]+PS_COEFF[i][4]*temperature+PS_COEFF[i][5]*np.power(temperature,2)\n",
    "\n",
    "#CALCULATE EQUATIONS OF STATE AND FUGACITY\n",
    "#Solve Equation of state, Eq 2 of Pitzer and Sterner (1994)\n",
    "#Returns pressure in Pa\n",
    "def eos(T, V):\n",
    "    den = 1/V\n",
    "    R = 8314472\n",
    "    var_num = CS[2]+2*CS[3]*den+3*CS[4]*np.power(den,2)+4*CS[5]*np.power(den,3)\n",
    "    var_denom = np.power((CS[1]+CS[2]*den+CS[3]*np.power(den,2)+CS[4]*np.power(den,3)+CS[5]*np.power(den,4)),2)\n",
    "    pressure=den+CS[0]*np.power(den,2)-np.power(den,2)*(var_num/var_denom)\n",
    "    pressure= pressure + (CS[6]*np.power(den,2)*math.exp(-CS[7]*den)+CS[8]*np.power(den,2)*math.exp(-CS[9]*den))\n",
    "    pressure = pressure*(R*T) #pressure in Pa\n",
    "    return pressure\n",
    "\n",
    "#Solve for fugacity, Eq 1 of Pitzer and Sterner (1994)\n",
    "#Returns fugacity in MPa\n",
    "def PSfug(P,T,V):\n",
    "    den=1/V;\n",
    "    R=8314472;\n",
    "    quotient = CS[0]*den+(1/(CS[1]+CS[2]*den+CS[3]*np.power(den,2)+CS[4]*np.power(den,3)+CS[5]*np.power(den,4))-1/CS[1])\n",
    "    quotient-= CS[6]/CS[7]*(math.exp(-CS[7]*den)-1)\n",
    "    quotient-= CS[8]/CS[9]*(math.exp(-CS[9]*den)-1)\n",
    "    lnf=(math.log(den)+ quotient+P/(den*R*T))+math.log(R*T)-1\n",
    "    return math.exp(lnf)/1e6 # fugacity in MPa\n",
    "\n",
    "#Optimizing equation to solve for volume\n",
    "def fugacity_optimizer(temperature,pressure):\n",
    "\n",
    "    def fun(v):\n",
    "        return eos(temperature, v)- pressure\n",
    "    volume = opt.brentq(fun, 5, 30) #Volume in cc/mo\n",
    "\n",
    "    #Calculate fugacity \n",
    "    fugacity = PSfug(pressure, temperature, volume)\n",
    "    \n",
    "    return fugacity\n"
   ]
  },
  {
   "cell_type": "code",
   "execution_count": 64,
   "metadata": {
    "collapsed": false
   },
   "outputs": [
    {
     "ename": "ValueError",
     "evalue": "f(a) and f(b) must have different signs",
     "output_type": "error",
     "traceback": [
      "\u001b[0;31m---------------------------------------------------------------------------\u001b[0m",
      "\u001b[0;31mValueError\u001b[0m                                Traceback (most recent call last)",
      "\u001b[0;32m<ipython-input-64-e2536c7e8932>\u001b[0m in \u001b[0;36m<module>\u001b[0;34m()\u001b[0m\n\u001b[1;32m      1\u001b[0m \u001b[0;34m\u001b[0m\u001b[0m\n\u001b[0;32m----> 2\u001b[0;31m \u001b[0mfugacity_optimizer\u001b[0m\u001b[0;34m(\u001b[0m\u001b[0;36m573\u001b[0m\u001b[0;34m,\u001b[0m \u001b[0;36m40\u001b[0m\u001b[0;34m)\u001b[0m\u001b[0;34m\u001b[0m\u001b[0m\n\u001b[0m",
      "\u001b[0;32m<ipython-input-49-23131e20507e>\u001b[0m in \u001b[0;36mfugacity_optimizer\u001b[0;34m(temperature, pressure)\u001b[0m\n\u001b[1;32m     32\u001b[0m     \u001b[0;32mdef\u001b[0m \u001b[0mfun\u001b[0m\u001b[0;34m(\u001b[0m\u001b[0mv\u001b[0m\u001b[0;34m)\u001b[0m\u001b[0;34m:\u001b[0m\u001b[0;34m\u001b[0m\u001b[0m\n\u001b[1;32m     33\u001b[0m         \u001b[0;32mreturn\u001b[0m \u001b[0meos\u001b[0m\u001b[0;34m(\u001b[0m\u001b[0mtemperature\u001b[0m\u001b[0;34m,\u001b[0m \u001b[0mv\u001b[0m\u001b[0;34m)\u001b[0m\u001b[0;34m-\u001b[0m \u001b[0mpressure\u001b[0m\u001b[0;34m\u001b[0m\u001b[0m\n\u001b[0;32m---> 34\u001b[0;31m     \u001b[0mvolume\u001b[0m \u001b[0;34m=\u001b[0m \u001b[0mopt\u001b[0m\u001b[0;34m.\u001b[0m\u001b[0mbrentq\u001b[0m\u001b[0;34m(\u001b[0m\u001b[0mfun\u001b[0m\u001b[0;34m,\u001b[0m \u001b[0;36m5\u001b[0m\u001b[0;34m,\u001b[0m \u001b[0;36m30\u001b[0m\u001b[0;34m)\u001b[0m \u001b[0;31m#Volume in cc/mo\u001b[0m\u001b[0;34m\u001b[0m\u001b[0m\n\u001b[0m\u001b[1;32m     35\u001b[0m \u001b[0;34m\u001b[0m\u001b[0m\n\u001b[1;32m     36\u001b[0m     \u001b[0;31m#Calculate fugacity\u001b[0m\u001b[0;34m\u001b[0m\u001b[0;34m\u001b[0m\u001b[0m\n",
      "\u001b[0;32m/Users/drchoff2/anaconda/lib/python2.7/site-packages/scipy/optimize/zeros.pyc\u001b[0m in \u001b[0;36mbrentq\u001b[0;34m(f, a, b, args, xtol, rtol, maxiter, full_output, disp)\u001b[0m\n\u001b[1;32m    440\u001b[0m     \u001b[0;32mif\u001b[0m \u001b[0mrtol\u001b[0m \u001b[0;34m<\u001b[0m \u001b[0m_rtol\u001b[0m\u001b[0;34m:\u001b[0m\u001b[0;34m\u001b[0m\u001b[0m\n\u001b[1;32m    441\u001b[0m         \u001b[0;32mraise\u001b[0m \u001b[0mValueError\u001b[0m\u001b[0;34m(\u001b[0m\u001b[0;34m\"rtol too small (%g < %g)\"\u001b[0m \u001b[0;34m%\u001b[0m \u001b[0;34m(\u001b[0m\u001b[0mrtol\u001b[0m\u001b[0;34m,\u001b[0m \u001b[0m_rtol\u001b[0m\u001b[0;34m)\u001b[0m\u001b[0;34m)\u001b[0m\u001b[0;34m\u001b[0m\u001b[0m\n\u001b[0;32m--> 442\u001b[0;31m     \u001b[0mr\u001b[0m \u001b[0;34m=\u001b[0m \u001b[0m_zeros\u001b[0m\u001b[0;34m.\u001b[0m\u001b[0m_brentq\u001b[0m\u001b[0;34m(\u001b[0m\u001b[0mf\u001b[0m\u001b[0;34m,\u001b[0m\u001b[0ma\u001b[0m\u001b[0;34m,\u001b[0m\u001b[0mb\u001b[0m\u001b[0;34m,\u001b[0m\u001b[0mxtol\u001b[0m\u001b[0;34m,\u001b[0m\u001b[0mrtol\u001b[0m\u001b[0;34m,\u001b[0m\u001b[0mmaxiter\u001b[0m\u001b[0;34m,\u001b[0m\u001b[0margs\u001b[0m\u001b[0;34m,\u001b[0m\u001b[0mfull_output\u001b[0m\u001b[0;34m,\u001b[0m\u001b[0mdisp\u001b[0m\u001b[0;34m)\u001b[0m\u001b[0;34m\u001b[0m\u001b[0m\n\u001b[0m\u001b[1;32m    443\u001b[0m     \u001b[0;32mreturn\u001b[0m \u001b[0mresults_c\u001b[0m\u001b[0;34m(\u001b[0m\u001b[0mfull_output\u001b[0m\u001b[0;34m,\u001b[0m \u001b[0mr\u001b[0m\u001b[0;34m)\u001b[0m\u001b[0;34m\u001b[0m\u001b[0m\n\u001b[1;32m    444\u001b[0m \u001b[0;34m\u001b[0m\u001b[0m\n",
      "\u001b[0;31mValueError\u001b[0m: f(a) and f(b) must have different signs"
     ]
    }
   ],
   "source": [
    "\n",
    "fugacity_optimizer(573, 40)\n"
   ]
  },
  {
   "cell_type": "code",
   "execution_count": 6,
   "metadata": {
    "collapsed": false
   },
   "outputs": [
    {
     "name": "stdout",
     "output_type": "stream",
     "text": [
      "[86.11912549447844, 89.26649890835894, 86.69906427970614, 89.86527649018399]\n"
     ]
    }
   ],
   "source": [
    "CS = np.zeros([10])\n",
    "\n",
    "import numpy as np\n",
    "temp = range(400, 402)\n",
    "temp = C2K(temp)\n",
    "press = [400000000, 410000000]\n",
    "fug = []\n",
    "for t in temp:\n",
    "    for p in press:\n",
    "        cs = calculate_coefficient_table(t)\n",
    "        fu = fugacity_optimizer(t,p)\n",
    "        fug.append(fu)\n",
    "\n",
    "print(fug)"
   ]
  },
  {
   "cell_type": "code",
   "execution_count": 40,
   "metadata": {
    "collapsed": false
   },
   "outputs": [
    {
     "data": {
      "image/png": "[encoded data removed]",
      "text/plain": [
       "<matplotlib.figure.Figure at 0x10cc1b0d0>"
      ]
     },
     "metadata": {},
     "output_type": "display_data"
    },
    {
     "data": {
      "text/plain": [
       "array([[  2.29260000e+11,   2.30060000e+11,   2.30860000e+11,\n",
       "          2.31660000e+11],\n",
       "       [  2.30406300e+11,   2.31210300e+11,   2.32014300e+11,\n",
       "          2.32818300e+11],\n",
       "       [  2.31552600e+11,   2.32360600e+11,   2.33168600e+11,\n",
       "          2.33976600e+11],\n",
       "       [  2.32698900e+11,   2.33510900e+11,   2.34322900e+11,\n",
       "          2.35134900e+11]])"
      ]
     },
     "execution_count": 40,
     "metadata": {},
     "output_type": "execute_result"
    }
   ],
   "source": [
    "t = np.linspace(300, 306, 4, dtype=int)\n",
    "t = C2K(t)\n",
    "p = np.linspace(400, 406, 4, dtype=int)\n",
    "p = p*1.0E6\n",
    "\n",
    "def mesh_fun(xx, yy):\n",
    "    zz = xx*yy\n",
    "    return zz \n",
    "\n",
    "tt, pp = np.meshgrid(t, p)\n",
    "\n",
    "zz = mesh_fun(tt, pp)\n",
    "\n",
    "plt.imshow(zz)\n",
    "plt.show()\n",
    "zz"
   ]
  },
  {
   "cell_type": "code",
   "execution_count": 35,
   "metadata": {
    "collapsed": false
   },
   "outputs": [
    {
     "name": "stdout",
     "output_type": "stream",
     "text": [
      "<type 'numpy.ndarray'>\n",
      "[ 573.15  575.15  577.15  579.15]\n"
     ]
    },
    {
     "ename": "TypeError",
     "evalue": "only length-1 arrays can be converted to Python scalars",
     "output_type": "error",
     "traceback": [
      "\u001b[0;31m---------------------------------------------------------------------------\u001b[0m",
      "\u001b[0;31mTypeError\u001b[0m                                 Traceback (most recent call last)",
      "\u001b[0;32m<ipython-input-35-ee51ef71a2b0>\u001b[0m in \u001b[0;36m<module>\u001b[0;34m()\u001b[0m\n\u001b[1;32m      4\u001b[0m \u001b[0;32mfor\u001b[0m \u001b[0mi\u001b[0m \u001b[0;32min\u001b[0m \u001b[0mtt\u001b[0m\u001b[0;34m:\u001b[0m\u001b[0;34m\u001b[0m\u001b[0m\n\u001b[1;32m      5\u001b[0m     \u001b[0;32mfor\u001b[0m \u001b[0mj\u001b[0m \u001b[0;32min\u001b[0m \u001b[0mpp\u001b[0m\u001b[0;34m:\u001b[0m\u001b[0;34m\u001b[0m\u001b[0m\n\u001b[0;32m----> 6\u001b[0;31m         \u001b[0mcs\u001b[0m \u001b[0;34m=\u001b[0m \u001b[0mcalculate_coefficient_table\u001b[0m\u001b[0;34m(\u001b[0m\u001b[0mi\u001b[0m\u001b[0;34m)\u001b[0m\u001b[0;34m\u001b[0m\u001b[0m\n\u001b[0m\u001b[1;32m      7\u001b[0m         \u001b[0mfu\u001b[0m \u001b[0;34m=\u001b[0m \u001b[0mfugacity_optimizer\u001b[0m\u001b[0;34m(\u001b[0m\u001b[0mi\u001b[0m\u001b[0;34m,\u001b[0m\u001b[0mj\u001b[0m\u001b[0;34m)\u001b[0m\u001b[0;34m\u001b[0m\u001b[0m\n\u001b[1;32m      8\u001b[0m         \u001b[0mfug\u001b[0m\u001b[0;34m.\u001b[0m\u001b[0mappend\u001b[0m\u001b[0;34m(\u001b[0m\u001b[0mfu\u001b[0m\u001b[0;34m)\u001b[0m\u001b[0;34m\u001b[0m\u001b[0m\n",
      "\u001b[0;32m<ipython-input-4-aaf21f17a52c>\u001b[0m in \u001b[0;36mcalculate_coefficient_table\u001b[0;34m(temperature)\u001b[0m\n\u001b[1;32m      1\u001b[0m \u001b[0;32mdef\u001b[0m \u001b[0mcalculate_coefficient_table\u001b[0m\u001b[0;34m(\u001b[0m\u001b[0mtemperature\u001b[0m\u001b[0;34m)\u001b[0m\u001b[0;34m:\u001b[0m\u001b[0;34m\u001b[0m\u001b[0m\n\u001b[1;32m      2\u001b[0m     \u001b[0;32mfor\u001b[0m \u001b[0mi\u001b[0m \u001b[0;32min\u001b[0m \u001b[0mrange\u001b[0m\u001b[0;34m(\u001b[0m\u001b[0;36m0\u001b[0m\u001b[0;34m,\u001b[0m \u001b[0mlen\u001b[0m\u001b[0;34m(\u001b[0m\u001b[0mPS_COEFF\u001b[0m\u001b[0;34m)\u001b[0m\u001b[0;34m)\u001b[0m\u001b[0;34m:\u001b[0m\u001b[0;34m\u001b[0m\u001b[0m\n\u001b[0;32m----> 3\u001b[0;31m         \u001b[0mCS\u001b[0m\u001b[0;34m[\u001b[0m\u001b[0mi\u001b[0m\u001b[0;34m]\u001b[0m\u001b[0;34m=\u001b[0m\u001b[0mPS_COEFF\u001b[0m\u001b[0;34m[\u001b[0m\u001b[0mi\u001b[0m\u001b[0;34m]\u001b[0m\u001b[0;34m[\u001b[0m\u001b[0;36m0\u001b[0m\u001b[0;34m]\u001b[0m\u001b[0;34m*\u001b[0m\u001b[0mmath\u001b[0m\u001b[0;34m.\u001b[0m\u001b[0mpow\u001b[0m\u001b[0;34m(\u001b[0m\u001b[0mtemperature\u001b[0m\u001b[0;34m,\u001b[0m\u001b[0;34m-\u001b[0m\u001b[0;36m4\u001b[0m\u001b[0;34m)\u001b[0m\u001b[0;34m+\u001b[0m\u001b[0mPS_COEFF\u001b[0m\u001b[0;34m[\u001b[0m\u001b[0mi\u001b[0m\u001b[0;34m]\u001b[0m\u001b[0;34m[\u001b[0m\u001b[0;36m1\u001b[0m\u001b[0;34m]\u001b[0m\u001b[0;34m*\u001b[0m\u001b[0mmath\u001b[0m\u001b[0;34m.\u001b[0m\u001b[0mpow\u001b[0m\u001b[0;34m(\u001b[0m\u001b[0mtemperature\u001b[0m\u001b[0;34m,\u001b[0m\u001b[0;34m-\u001b[0m\u001b[0;36m2\u001b[0m\u001b[0;34m)\u001b[0m        \u001b[0;34m+\u001b[0m\u001b[0mPS_COEFF\u001b[0m\u001b[0;34m[\u001b[0m\u001b[0mi\u001b[0m\u001b[0;34m]\u001b[0m\u001b[0;34m[\u001b[0m\u001b[0;36m2\u001b[0m\u001b[0;34m]\u001b[0m\u001b[0;34m*\u001b[0m\u001b[0mmath\u001b[0m\u001b[0;34m.\u001b[0m\u001b[0mpow\u001b[0m\u001b[0;34m(\u001b[0m\u001b[0mtemperature\u001b[0m\u001b[0;34m,\u001b[0m\u001b[0;34m-\u001b[0m\u001b[0;36m1\u001b[0m\u001b[0;34m)\u001b[0m        \u001b[0;34m+\u001b[0m\u001b[0mPS_COEFF\u001b[0m\u001b[0;34m[\u001b[0m\u001b[0mi\u001b[0m\u001b[0;34m]\u001b[0m\u001b[0;34m[\u001b[0m\u001b[0;36m3\u001b[0m\u001b[0;34m]\u001b[0m\u001b[0;34m+\u001b[0m\u001b[0mPS_COEFF\u001b[0m\u001b[0;34m[\u001b[0m\u001b[0mi\u001b[0m\u001b[0;34m]\u001b[0m\u001b[0;34m[\u001b[0m\u001b[0;36m4\u001b[0m\u001b[0;34m]\u001b[0m\u001b[0;34m*\u001b[0m\u001b[0mtemperature\u001b[0m\u001b[0;34m+\u001b[0m\u001b[0mPS_COEFF\u001b[0m\u001b[0;34m[\u001b[0m\u001b[0mi\u001b[0m\u001b[0;34m]\u001b[0m\u001b[0;34m[\u001b[0m\u001b[0;36m5\u001b[0m\u001b[0;34m]\u001b[0m\u001b[0;34m*\u001b[0m\u001b[0mmath\u001b[0m\u001b[0;34m.\u001b[0m\u001b[0mpow\u001b[0m\u001b[0;34m(\u001b[0m\u001b[0mtemperature\u001b[0m\u001b[0;34m,\u001b[0m\u001b[0;36m2\u001b[0m\u001b[0;34m)\u001b[0m\u001b[0;34m\u001b[0m\u001b[0m\n\u001b[0m\u001b[1;32m      4\u001b[0m     \u001b[0;32mreturn\u001b[0m \u001b[0mCS\u001b[0m\u001b[0;34m\u001b[0m\u001b[0m\n\u001b[1;32m      5\u001b[0m \u001b[0;34m\u001b[0m\u001b[0m\n",
      "\u001b[0;31mTypeError\u001b[0m: only length-1 arrays can be converted to Python scalars"
     ]
    }
   ],
   "source": [
    "fug = []\n",
    "print(type(t))\n",
    "print(t)\n",
    "for i in tt:\n",
    "    for j in pp:\n",
    "        cs = calculate_coefficient_table(i)\n",
    "        fu = fugacity_optimizer(i,j)\n",
    "        fug.append(fu)\n",
    "print fug"
   ]
  },
  {
   "cell_type": "code",
   "execution_count": 51,
   "metadata": {
    "collapsed": false
   },
   "outputs": [
    {
     "name": "stdout",
     "output_type": "stream",
     "text": [
      "[  5.13599510e+01   0.00000000e+00   0.00000000e+00  -4.27198750e-01\n",
      "  -1.65801670e+01   1.09178830e-01   7.55911050e+00   1.88106750e+02\n",
      "  -2.35303180e+01   1.22467770e+02]\n"
     ]
    }
   ],
   "source": [
    "CS = np.zeros([10])\n",
    "temperature = 659#[400]#, 401]#range(400, 402)\n",
    "\n",
    "for i in range(0, len(PS_COEFF)):\n",
    "    #for j in temperature:\n",
    "    CS[i]=PS_COEFF[i][0]*np.power(temperature,-4)+PS_COEFF[i][1]*np.power(temperature,-2)\\\n",
    "    +PS_COEFF[i][2]*np.power(temperature,-1)\\\n",
    "    +PS_COEFF[i][3]+PS_COEFF[i][4]*temperature+PS_COEFF[i][5]*np.power(temperature,2)\n",
    "    \n",
    "\n",
    "print CS"
   ]
  },
  {
   "cell_type": "code",
   "execution_count": 31,
   "metadata": {
    "collapsed": false
   },
   "outputs": [
    {
     "name": "stdout",
     "output_type": "stream",
     "text": [
      "[  5.13599510e+01   0.00000000e+00   0.00000000e+00  -4.27198750e-01\n",
      "  -1.65801670e+01   1.09178830e-01   7.55911050e+00   1.88106750e+02\n",
      "  -2.35303180e+01   1.22467770e+02]\n"
     ]
    }
   ],
   "source": [
    "CS2 = np.zeros([10])\n",
    "temperature = 701#[400]#, 401]#range(400, 402)\n",
    "\n",
    "for i in range(0, len(PS_COEFF)):\n",
    "    #for j in temperature:\n",
    "    CS2[i]=PS_COEFF[i][0]*np.power(temperature,-4)+PS_COEFF[i][1]*np.power(temperature,-2)\\\n",
    "    +PS_COEFF[i][2]*np.power(temperature,-1)\\\n",
    "    +PS_COEFF[i][3]+PS_COEFF[i][4]*temperature+PS_COEFF[i][5]*np.power(temperature,2)\n",
    "    \n",
    "print CS2"
   ]
  },
  {
   "cell_type": "code",
   "execution_count": 36,
   "metadata": {
    "collapsed": false
   },
   "outputs": [
    {
     "name": "stdout",
     "output_type": "stream",
     "text": [
      "[  5.13599510e+01   0.00000000e+00   0.00000000e+00  -4.27198750e-01\n",
      "  -1.65801670e+01   1.09178830e-01   7.55911050e+00   1.88106750e+02\n",
      "  -2.35303180e+01   1.22467770e+02]\n"
     ]
    }
   ],
   "source": [
    "CS3 = np.zeros([10])\n",
    "temperature = 772#[400]#, 401]#range(400, 402)\n",
    "\n",
    "for i in range(0, len(PS_COEFF)):\n",
    "    #for j in temperature:\n",
    "    CS3[i]=PS_COEFF[i][0]*np.power(temperature,-4)+PS_COEFF[i][1]*np.power(temperature,-2)\\\n",
    "    +PS_COEFF[i][2]*np.power(temperature,-1)\\\n",
    "    +PS_COEFF[i][3]+PS_COEFF[i][4]*temperature+PS_COEFF[i][5]*np.power(temperature,2)\n",
    "\n",
    "print CS3"
   ]
  },
  {
   "cell_type": "code",
   "execution_count": 34,
   "metadata": {
    "collapsed": true
   },
   "outputs": [],
   "source": [
    "del CS, CS2, CS3"
   ]
  },
  {
   "cell_type": "code",
   "execution_count": null,
   "metadata": {
    "collapsed": false
   },
   "outputs": [],
   "source": []
  },
  {
   "cell_type": "code",
   "execution_count": null,
   "metadata": {
    "collapsed": true
   },
   "outputs": [],
   "source": []
  }
 ],
 "metadata": {
  "anaconda-cloud": {},
  "kernelspec": {
   "display_name": "Python [conda root]",
   "language": "python",
   "name": "conda-root-py"
  },
  "language_info": {
   "codemirror_mode": {
    "name": "ipython",
    "version": 2
   },
   "file_extension": ".py",
   "mimetype": "text/x-python",
   "name": "python",
   "nbconvert_exporter": "python",
   "pygments_lexer": "ipython2",
   "version": "2.7.12"
  }
 },
 "nbformat": 4,
 "nbformat_minor": 1
}
