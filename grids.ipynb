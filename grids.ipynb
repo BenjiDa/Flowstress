{
 "cells": [
  {
   "cell_type": "code",
   "execution_count": 1,
   "metadata": {
    "collapsed": true
   },
   "outputs": [],
   "source": [
    "import numpy as np \n",
    "from scipy.constants.constants import C2K, K2C\n",
    "import math\n",
    "from scipy import optimize as opt # for optimization\n",
    "import matplotlib.pyplot as plt\n",
    "from matplotlib import cm"
   ]
  },
  {
   "cell_type": "code",
   "execution_count": 10,
   "metadata": {
    "collapsed": true
   },
   "outputs": [],
   "source": [
    "\n",
    "PS_COEFF = np.zeros([10,10])\n",
    "PS_COEFF[0][2]=0.24657688*math.pow(10,6)\n",
    "PS_COEFF[0][3]=0.51359951*math.pow(10,2) \n",
    "PS_COEFF[1][2]=0.58638965*math.pow(10,0) \n",
    "PS_COEFF[1][3]=-0.28646939*math.pow(10,-2) \n",
    "PS_COEFF[1][4]=0.31375577*math.pow(10,-4) \n",
    "PS_COEFF[2][2]=-0.62783840*math.pow(10,1) \n",
    "PS_COEFF[2][3]=0.14791599*math.pow(10,-1) \n",
    "PS_COEFF[2][4]=0.35779579*math.pow(10,-3) \n",
    "PS_COEFF[2][5]=0.15432925*math.pow(10,-7) \n",
    "PS_COEFF[3][3]=-0.42719875*math.pow(10,0) \n",
    "PS_COEFF[3][4]=-0.16325155*math.pow(10,-4) \n",
    "PS_COEFF[4][2]=0.56654978*math.pow(10,4) \n",
    "PS_COEFF[4][3]=-0.16580167*math.pow(10,2) \n",
    "PS_COEFF[4][4]=0.76560762*math.pow(10,-1) \n",
    "PS_COEFF[5][3]=0.10917883*math.pow(10,0) \n",
    "PS_COEFF[6][0]=0.38878656*math.pow(10,13) \n",
    "PS_COEFF[6][1]=-0.13494878*math.pow(10,9) \n",
    "PS_COEFF[6][2]=0.30916564*math.pow(10,6)\n",
    "PS_COEFF[6][3]=0.75591105*math.pow(10,1) \n",
    "PS_COEFF[7][2]=-0.65537898*math.pow(10,5) \n",
    "PS_COEFF[7][3]=0.18810675*math.pow(10,3) \n",
    "PS_COEFF[8][0]=-0.14182435*math.pow(10,14) \n",
    "PS_COEFF[8][1]=0.18165390*math.pow(10,9) \n",
    "PS_COEFF[8][2]=-0.19769068*math.pow(10,6)\n",
    "PS_COEFF[8][3]=-0.23530318*math.pow(10,2)\n",
    "PS_COEFF[9][2]=0.92093375*math.pow(10,5)\n",
    "PS_COEFF[9][3]=0.12246777*math.pow(10,3)\n",
    "\n",
    "CS = np.zeros([10]) "
   ]
  },
  {
   "cell_type": "code",
   "execution_count": 60,
   "metadata": {
    "collapsed": false
   },
   "outputs": [],
   "source": [
    "def calculate_coefficient_table(temperature):\n",
    "    for i in range(0, len(PS_COEFF)):\n",
    "        CS[i]=PS_COEFF[i][0]*math.pow(temperature,-4)+PS_COEFF[i][1]*math.pow(temperature,-2)\\\n",
    "        +PS_COEFF[i][2]*math.pow(temperature,-1)\\\n",
    "        +PS_COEFF[i][3]+PS_COEFF[i][4]*temperature+PS_COEFF[i][5]*math.pow(temperature,2)\n",
    "    return CS\n",
    "\n",
    "#CALCULATE EQUATIONS OF STATE AND FUGACITY\n",
    "#Solve Equation of state, Eq 2 of Pitzer and Sterner (1994)\n",
    "#Returns pressure in Pa\n",
    "def eos(T, V):\n",
    "    den = 1/V\n",
    "    R = 8314472\n",
    "    var_num = CS[2]+2*CS[3]*den+3*CS[4]*math.pow(den,2)+4*CS[5]*math.pow(den,3)\n",
    "    var_denom = math.pow((CS[1]+CS[2]*den+CS[3]*math.pow(den,2)+CS[4]*math.pow(den,3)+CS[5]*math.pow(den,4)),2)\n",
    "    pressure=den+CS[0]*math.pow(den,2)-math.pow(den,2)*(var_num/var_denom)\n",
    "    pressure= pressure + (CS[6]*math.pow(den,2)*math.exp(-CS[7]*den)+CS[8]*math.pow(den,2)*math.exp(-CS[9]*den))\n",
    "    pressure = pressure*(R*T) #pressure in Pa\n",
    "    return pressure\n",
    "\n",
    "#Solve for fugacity, Eq 1 of Pitzer and Sterner (1994)\n",
    "#Returns fugacity in MPa\n",
    "def PSfug(P,T,V):\n",
    "    den=1/V;\n",
    "    R=8314472;\n",
    "    quotient = CS[0]*den+(1/(CS[1]+CS[2]*den+CS[3]*math.pow(den,2)+CS[4]*math.pow(den,3)+CS[5]*math.pow(den,4))-1/CS[1])\n",
    "    quotient-= CS[6]/CS[7]*(math.exp(-CS[7]*den)-1)\n",
    "    quotient-= CS[8]/CS[9]*(math.exp(-CS[9]*den)-1)\n",
    "    lnf=(math.log(den)+ quotient+P/(den*R*T))+math.log(R*T)-1\n",
    "    return math.exp(lnf)/1e6 # fugacity in MPa\n",
    "\n",
    "#Optimizing equation to solve for volume\n",
    "def fugacity_optimizer(temperature,pressure):\n",
    "\n",
    "    def fun(v):\n",
    "        return eos(temperature, v)- pressure\n",
    "    volume = opt.brentq(fun, 5, 30) #Volume in cc/mo\n",
    "\n",
    "    #Calculate fugacity \n",
    "    fugacity = PSfug(pressure, temperature, volume)\n",
    "    \n",
    "    return fugacity\n"
   ]
  },
  {
   "cell_type": "code",
   "execution_count": 79,
   "metadata": {
    "collapsed": false
   },
   "outputs": [],
   "source": [
    "CS = np.zeros([10])\n",
    "\n",
    "import numpy as np\n",
    "temp = range(400, 402)\n",
    "temp = C2K(temp)\n",
    "press = [400000000, 410000000]\n",
    "fug = []\n",
    "for t in temp:\n",
    "    for p in press:\n",
    "        cs = calculate_coefficient_table(t)\n",
    "        fu = fugacity_optimizer(t,p)\n",
    "        fug.append(fu)"
   ]
  },
  {
   "cell_type": "code",
   "execution_count": 107,
   "metadata": {
    "collapsed": false
   },
   "outputs": [],
   "source": [
    "t = np.linspace(300, 306, 4, dtype=int)\n",
    "p = np.linspace(400, 406, 4, dtype=int)\n",
    "tt, pp = np.meshgrid(t, p)"
   ]
  },
  {
   "cell_type": "code",
   "execution_count": 109,
   "metadata": {
    "collapsed": false
   },
   "outputs": [
    {
     "name": "stdout",
     "output_type": "stream",
     "text": [
      "<type 'numpy.int64'>\n",
      "306\n"
     ]
    },
    {
     "ename": "TypeError",
     "evalue": "'numpy.int64' object is not iterable",
     "output_type": "error",
     "traceback": [
      "\u001b[0;31m---------------------------------------------------------------------------\u001b[0m",
      "\u001b[0;31mTypeError\u001b[0m                                 Traceback (most recent call last)",
      "\u001b[0;32m<ipython-input-109-a1786ea4f573>\u001b[0m in \u001b[0;36m<module>\u001b[0;34m()\u001b[0m\n\u001b[1;32m      2\u001b[0m \u001b[0;32mprint\u001b[0m\u001b[0;34m(\u001b[0m\u001b[0mtype\u001b[0m\u001b[0;34m(\u001b[0m\u001b[0mt\u001b[0m\u001b[0;34m)\u001b[0m\u001b[0;34m)\u001b[0m\u001b[0;34m\u001b[0m\u001b[0m\n\u001b[1;32m      3\u001b[0m \u001b[0;32mprint\u001b[0m\u001b[0;34m(\u001b[0m\u001b[0mt\u001b[0m\u001b[0;34m)\u001b[0m\u001b[0;34m\u001b[0m\u001b[0m\n\u001b[0;32m----> 4\u001b[0;31m \u001b[0;32mfor\u001b[0m \u001b[0mt\u001b[0m \u001b[0;32min\u001b[0m \u001b[0mt\u001b[0m\u001b[0;34m:\u001b[0m\u001b[0;34m\u001b[0m\u001b[0m\n\u001b[0m\u001b[1;32m      5\u001b[0m     \u001b[0;32mfor\u001b[0m \u001b[0mp\u001b[0m \u001b[0;32min\u001b[0m \u001b[0mp\u001b[0m\u001b[0;34m:\u001b[0m\u001b[0;34m\u001b[0m\u001b[0m\n\u001b[1;32m      6\u001b[0m         \u001b[0mcs\u001b[0m \u001b[0;34m=\u001b[0m \u001b[0mcalculate_coefficient_table\u001b[0m\u001b[0;34m(\u001b[0m\u001b[0mt\u001b[0m\u001b[0;34m)\u001b[0m\u001b[0;34m\u001b[0m\u001b[0m\n",
      "\u001b[0;31mTypeError\u001b[0m: 'numpy.int64' object is not iterable"
     ]
    }
   ],
   "source": [
    "fug = []\n",
    "print(type(t))\n",
    "print(t)\n",
    "for t in t:\n",
    "    for p in p:\n",
    "        cs = calculate_coefficient_table(t)\n",
    "        fu = fugacity_optimizer(t,p)\n",
    "        fug.append(fu)\n"
   ]
  },
  {
   "cell_type": "code",
   "execution_count": 85,
   "metadata": {
    "collapsed": false
   },
   "outputs": [
    {
     "data": {
      "text/plain": [
       "[86.11912549447844, 89.26649890835894, 86.69906427970614, 89.86527649018399]"
      ]
     },
     "execution_count": 85,
     "metadata": {},
     "output_type": "execute_result"
    }
   ],
   "source": []
  },
  {
   "cell_type": "code",
   "execution_count": null,
   "metadata": {
    "collapsed": true
   },
   "outputs": [],
   "source": []
  }
 ],
 "metadata": {
  "kernelspec": {
   "display_name": "Python [conda root]",
   "language": "python",
   "name": "conda-root-py"
  },
  "language_info": {
   "codemirror_mode": {
    "name": "ipython",
    "version": 2
   },
   "file_extension": ".py",
   "mimetype": "text/x-python",
   "name": "python",
   "nbconvert_exporter": "python",
   "pygments_lexer": "ipython2",
   "version": "2.7.12"
  }
 },
 "nbformat": 4,
 "nbformat_minor": 1
}
