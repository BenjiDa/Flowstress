{
 "cells": [
  {
   "cell_type": "code",
   "execution_count": 6,
   "metadata": {
    "collapsed": false
   },
   "outputs": [
    {
     "name": "stderr",
     "output_type": "stream",
     "text": [
      "/Users/bmelosh/anaconda2/lib/python2.7/site-packages/matplotlib/font_manager.py:273: UserWarning: Matplotlib is building the font cache using fc-list. This may take a moment.\n",
      "  warnings.warn('Matplotlib is building the font cache using fc-list. This may take a moment.')\n"
     ]
    }
   ],
   "source": [
    "import numpy as np \n",
    "import math\n",
    "from __future__ import division # Import this to divide floats in python 2\n",
    "from scipy import optimize as opt # for optimization\n",
    "from scipy.constants.constants import C2K\n",
    "\n",
    "#For plotting\n",
    "from matplotlib.backends.backend_pdf import PdfPages\n"
   ]
  },
  {
   "cell_type": "code",
   "execution_count": null,
   "metadata": {
    "collapsed": false
   },
   "outputs": [],
   "source": []
  },
  {
   "cell_type": "code",
   "execution_count": 8,
   "metadata": {
    "collapsed": true
   },
   "outputs": [],
   "source": [
    "\n",
    "\n",
    "#Defining PT Condition calculators and depth simulator, \n",
    "#alternatively use a range of temperatures as a given depth and pressure\n",
    "\n",
    "def pressure_calculator(depth, density): #depth in km, density in g/cm3\n",
    "    g = 9.8 #gravity\n",
    "    h = depth*1000 #converting to SI\n",
    "    row = density*1000 #converting to SI\n",
    "    pressure = (row*g*h)/1.0E6 # pressure in MPa\n",
    "    return pressure \n",
    "\n",
    "def temperature_calculator(depths, geothermal_gradients): #km, C/km\n",
    "    #np.array()\n",
    "    for depth in depth_and_geothermal_gradients: \n",
    "        temp = geothermal_gradient*depth \n",
    "    return np.array(temp)\n",
    "    \n",
    "def depth_simulator(depth_range, density=2.7, geothermal_gradient=30): #depth range in km\n",
    "    depth_conds = []\n",
    "    for dep in range(depth_range[0], depth_range[1]):\n",
    "        ptc = (round(pressure_calculator(dep, density)), temperature_calculator(geothermal_gradient, dep)) \n",
    "        depth_conds.append(ptc)\n",
    "    return depth_conds\n"
   ]
  },
  {
   "cell_type": "code",
   "execution_count": 9,
   "metadata": {
    "collapsed": false
   },
   "outputs": [],
   "source": [
    "#Grain Size Simulator\n",
    "\n",
    "class DifferentialStressCalculator():\n",
    "    def __init__(self, grain_size, constant_b, exponent):\n",
    "        self.constant_b = constant_b \n",
    "        self.grain_size = grain_size \n",
    "        self.exponent = exponent\n",
    "    \n",
    "    def calculate_differential_stress(self): \n",
    "        part = (math.log(self.grain_size)-math.log(self.constant_b))/self.exponent\n",
    "        s = math.exp(part)\n",
    "        return s\n",
    "\n",
    "#Create grain size simulator\n",
    "def simulate_grain_size(range_min, range_max):\n",
    "    B = 2451 #2451 (holyoke 2010) #3631 (stipp 2003)\n",
    "    m = -1.26 # \n",
    "    diffs = []\n",
    "    for x in range(range_min,range_max):\n",
    "        part = (math.log(x)-math.log(B))/m\n",
    "        s = math.exp(part)\n",
    "        diffs.append(s)\n",
    "    return diffs \n",
    "      \n"
   ]
  },
  {
   "cell_type": "code",
   "execution_count": 13,
   "metadata": {
    "collapsed": false
   },
   "outputs": [
    {
     "name": "stdout",
     "output_type": "stream",
     "text": [
      "78.75972939\n",
      "[136.52648537471026, 118.13392985387905, 104.53031972346173, 94.01928064508654, 85.62876571387406, 78.75972939002484, 73.02185778474386]\n"
     ]
    }
   ],
   "source": [
    "#instantiating the class\n",
    "shear_zone = DifferentialStressCalculator(grain_size=10, constant_b=B, exponent=m)\n",
    "s = shear_zone.calculate_differential_stress()\n",
    "\n",
    "print(s)\n",
    "\n",
    "sgs = simulate_grain_size(5,12)\n",
    "print(sgs)"
   ]
  },
  {
   "cell_type": "code",
   "execution_count": 70,
   "metadata": {
    "collapsed": false
   },
   "outputs": [
    {
     "data": {
      "image/png": "[encoded data removed]",
      "text/plain": [
       "<matplotlib.figure.Figure at 0x114f27d10>"
      ]
     },
     "metadata": {},
     "output_type": "display_data"
    }
   ],
   "source": [
    "import matplotlib.pyplot as plt\n",
    "\n",
    "def simulate_strain_rate(width_min, width_max): #constant stress condition\n",
    "    v = 15\n",
    "    e = []\n",
    "    for x in range(width_min, width_max):\n",
    "        strain_rate = (v/31536000)/(x*1000)\n",
    "        e.append(strain_rate)\n",
    "    return e\n",
    "\n",
    "sr = simulate_strain_rate(1,31)\n",
    "\n",
    "def simulate_slip_rate(width_min, width_max): #constant strain rate condition\n",
    "    e = 1.0E-11\n",
    "    v = []\n",
    "    for x in range(width_min, width_max):\n",
    "        slip_rate = (e*31536000)*(x*1000)\n",
    "        v.append(slip_rate)\n",
    "    return v\n",
    "\n",
    "v = simulate_slip_rate(1,31)\n",
    "\n",
    "#plot it up\n",
    "x = range(1, 31)\n",
    "fig = plt.figure(figsize=(6,6))\n",
    "\n",
    "sub1 = fig.add_subplot(2,1,1)\n",
    "sub1.text(1.5, 4.5E-10, 'Constant slip rate',size=10)\n",
    "sub1.plot(x,sr, 'k-')\n",
    "sub1.set_ylabel('Strain Rate (1/s)')\n",
    "\n",
    "sub2 = fig.add_subplot(2,1,2)\n",
    "sub2.text(1.5, 9, 'Constant strain rate',size=10)\n",
    "plt.plot(x, v, 'b-')\n",
    "sub2.set_ylabel('Slip Rate (mm/yr)')\n",
    "\n",
    "#Share plot x axis\n",
    "plt.setp(sub1.get_xticklabels(), visible=False)\n",
    "plt.subplots_adjust(hspace = 0.001)\n",
    "\n",
    "plt.show()"
   ]
  },
  {
   "cell_type": "code",
   "execution_count": 1,
   "metadata": {
    "collapsed": false
   },
   "outputs": [
    {
     "ename": "NameError",
     "evalue": "name 'depth_simulator' is not defined",
     "output_type": "error",
     "traceback": [
      "\u001b[0;31m---------------------------------------------------------------------------\u001b[0m",
      "\u001b[0;31mNameError\u001b[0m                                 Traceback (most recent call last)",
      "\u001b[0;32m<ipython-input-1-478a10d57afa>\u001b[0m in \u001b[0;36m<module>\u001b[0;34m()\u001b[0m\n\u001b[1;32m      2\u001b[0m \u001b[0;34m\u001b[0m\u001b[0m\n\u001b[1;32m      3\u001b[0m \u001b[0;31m#Using the depth simulator, imput a tuple of depths in km\u001b[0m\u001b[0;34m\u001b[0m\u001b[0;34m\u001b[0m\u001b[0m\n\u001b[0;32m----> 4\u001b[0;31m \u001b[0msimulator_results\u001b[0m \u001b[0;34m=\u001b[0m \u001b[0mdepth_simulator\u001b[0m\u001b[0;34m(\u001b[0m\u001b[0;34m(\u001b[0m\u001b[0;36m15\u001b[0m\u001b[0;34m,\u001b[0m \u001b[0;36m20\u001b[0m\u001b[0;34m)\u001b[0m\u001b[0;34m)\u001b[0m\u001b[0;34m\u001b[0m\u001b[0m\n\u001b[0m\u001b[1;32m      5\u001b[0m \u001b[0;32mprint\u001b[0m\u001b[0;34m(\u001b[0m\u001b[0msimulator_results\u001b[0m\u001b[0;34m)\u001b[0m\u001b[0;34m\u001b[0m\u001b[0m\n\u001b[1;32m      6\u001b[0m \u001b[0;34m\u001b[0m\u001b[0m\n",
      "\u001b[0;31mNameError\u001b[0m: name 'depth_simulator' is not defined"
     ]
    }
   ],
   "source": [
    "\n",
    "\n",
    "#Using the depth simulator, imput a tuple of depths in km\n",
    "simulator_results = depth_simulator((15, 20))\n",
    "print(simulator_results)\n",
    "    \n",
    "\n",
    "#These values are ready to go into Fugacity calculations\n",
    "\n"
   ]
  },
  {
   "cell_type": "code",
   "execution_count": 16,
   "metadata": {
    "collapsed": false
   },
   "outputs": [
    {
     "ename": "NameError",
     "evalue": "global name 'depth_and_geothermal_gradients' is not defined",
     "output_type": "error",
     "traceback": [
      "\u001b[0;31m---------------------------------------------------------------------------\u001b[0m",
      "\u001b[0;31mNameError\u001b[0m                                 Traceback (most recent call last)",
      "\u001b[0;32m<ipython-input-16-3283d1ac879b>\u001b[0m in \u001b[0;36m<module>\u001b[0;34m()\u001b[0m\n\u001b[1;32m      3\u001b[0m \u001b[0;34m\u001b[0m\u001b[0m\n\u001b[1;32m      4\u001b[0m \u001b[0mdepth_and_gradient\u001b[0m \u001b[0;34m=\u001b[0m \u001b[0;34m[\u001b[0m\u001b[0;34m[\u001b[0m\u001b[0;36m15\u001b[0m\u001b[0;34m,\u001b[0m\u001b[0;36m16\u001b[0m\u001b[0;34m]\u001b[0m\u001b[0;34m,\u001b[0m\u001b[0;34m[\u001b[0m\u001b[0;36m30\u001b[0m\u001b[0;34m,\u001b[0m\u001b[0;36m31\u001b[0m\u001b[0;34m]\u001b[0m\u001b[0;34m]\u001b[0m\u001b[0;34m\u001b[0m\u001b[0m\n\u001b[0;32m----> 5\u001b[0;31m \u001b[0mt\u001b[0m \u001b[0;34m=\u001b[0m \u001b[0mtemperature_calculator\u001b[0m\u001b[0;34m(\u001b[0m\u001b[0;36m15\u001b[0m\u001b[0;34m,\u001b[0m \u001b[0;36m30\u001b[0m\u001b[0;34m)\u001b[0m \u001b[0;31m#depth, geothermal gradient\u001b[0m\u001b[0;34m\u001b[0m\u001b[0m\n\u001b[0m\u001b[1;32m      6\u001b[0m \u001b[0;32mprint\u001b[0m\u001b[0;34m(\u001b[0m\u001b[0mt\u001b[0m\u001b[0;34m)\u001b[0m\u001b[0;34m\u001b[0m\u001b[0m\n\u001b[1;32m      7\u001b[0m \u001b[0mtemperature\u001b[0m \u001b[0;34m=\u001b[0m \u001b[0mtemp_conv\u001b[0m\u001b[0;34m(\u001b[0m\u001b[0mt\u001b[0m\u001b[0;34m)\u001b[0m\u001b[0;34m\u001b[0m\u001b[0m\n",
      "\u001b[0;32m<ipython-input-4-4ec4cbdfa27e>\u001b[0m in \u001b[0;36mtemperature_calculator\u001b[0;34m(depths, geothermal_gradients)\u001b[0m\n\u001b[1;32m     28\u001b[0m \u001b[0;32mdef\u001b[0m \u001b[0mtemperature_calculator\u001b[0m\u001b[0;34m(\u001b[0m\u001b[0mdepths\u001b[0m\u001b[0;34m,\u001b[0m \u001b[0mgeothermal_gradients\u001b[0m\u001b[0;34m)\u001b[0m\u001b[0;34m:\u001b[0m \u001b[0;31m#km, C/km\u001b[0m\u001b[0;34m\u001b[0m\u001b[0m\n\u001b[1;32m     29\u001b[0m     \u001b[0;31m#np.array()\u001b[0m\u001b[0;34m\u001b[0m\u001b[0;34m\u001b[0m\u001b[0m\n\u001b[0;32m---> 30\u001b[0;31m     \u001b[0;32mfor\u001b[0m \u001b[0mdepth\u001b[0m \u001b[0;32min\u001b[0m \u001b[0mdepth_and_geothermal_gradients\u001b[0m\u001b[0;34m:\u001b[0m\u001b[0;34m\u001b[0m\u001b[0m\n\u001b[0m\u001b[1;32m     31\u001b[0m         \u001b[0mtemp\u001b[0m \u001b[0;34m=\u001b[0m \u001b[0mgeothermal_gradient\u001b[0m\u001b[0;34m*\u001b[0m\u001b[0mdepth\u001b[0m\u001b[0;34m\u001b[0m\u001b[0m\n\u001b[1;32m     32\u001b[0m     \u001b[0;32mreturn\u001b[0m \u001b[0mnp\u001b[0m\u001b[0;34m.\u001b[0m\u001b[0marray\u001b[0m\u001b[0;34m(\u001b[0m\u001b[0mtemp\u001b[0m\u001b[0;34m)\u001b[0m\u001b[0;34m\u001b[0m\u001b[0m\n",
      "\u001b[0;31mNameError\u001b[0m: global name 'depth_and_geothermal_gradients' is not defined"
     ]
    }
   ],
   "source": [
    "#Input my pressure values and calculate temperature\n",
    "pressure = pres_conv(400)\n",
    "\n",
    "depth_and_gradient = [[15,16],[30,31]]\n",
    "t = temperature_calculator(15, 30) #depth, geothermal gradient\n",
    "print(t)\n",
    "temperature = temp_conv(t)\n",
    "print(pressure, temperature)\n"
   ]
  },
  {
   "cell_type": "code",
   "execution_count": null,
   "metadata": {
    "collapsed": false
   },
   "outputs": [],
   "source": []
  },
  {
   "cell_type": "code",
   "execution_count": null,
   "metadata": {
    "collapsed": false
   },
   "outputs": [],
   "source": []
  },
  {
   "cell_type": "code",
   "execution_count": 25,
   "metadata": {
    "collapsed": false
   },
   "outputs": [
    {
     "name": "stdout",
     "output_type": "stream",
     "text": [
      "[(265.0, 300), (291.0, 330), (318.0, 360), (344.0, 390), (370.0, 420), (397.0, 450), (423.0, 480), (450.0, 510), (476.0, 540), (503.0, 570)]\n",
      "[73.32065665485717, 81.29473182614085, 89.79888484406439, 98.1030276584143, 106.54153609969205, 115.50341790663366, 124.1845439191434, 133.389935698497, 142.27103916048623, 151.67985520346446]\n"
     ]
    }
   ],
   "source": [
    "#Using the depth simulator, input a tuple of depths in km\n",
    "simulator_results = depth_simulator((10, 20)) #Input range of depths as tuple\n",
    "print(simulator_results)\n",
    "\n",
    "#Calculate fugacity for each depth or temperature set in simulator\n",
    "fugacity = [] #set empty fugacity list\n",
    "for pressure, temperature in simulator_results:\n",
    "    \n",
    "    \n",
    "    def fun(v): #optimize for each PT value in array\n",
    "        return eos(temp_conv(temperature), v)-pres_conv(pressure) #converts units\n",
    "    volume = opt.brentq(fun, 5, 30)\n",
    "    #print(volume)#print volume to show variability\n",
    "    \n",
    "    #calculate fugacity for each PT value now that volume is optimized\n",
    "    fug = PSfug(pres_conv(pressure), temp_conv(temperature), volume)\n",
    "    fugacity.append(fug)\n",
    "    \n",
    "print(fugacity)"
   ]
  },
  {
   "cell_type": "code",
   "execution_count": 136,
   "metadata": {
    "collapsed": false
   },
   "outputs": [
    {
     "name": "stdout",
     "output_type": "stream",
     "text": [
      "400000000\n",
      "[400, 425, 450, 475, 500]\n",
      "[673.15, 698.15, 723.15, 748.15, 773.15]\n",
      "[86.11912549447844, 101.03550845594113, 116.71651725233453, 132.99873222104716, 149.72095732050246]\n"
     ]
    }
   ],
   "source": [
    "#Calculate a range of fugacities from range of temperatures at constant pressure\n",
    "\n",
    "#Set pressure, convert to Pa.\n",
    "pressure = 400000000#pres_conv(pressure_calculator(15, 2.7)) #Depth, density #400000000#\n",
    "print(pressure)\n",
    "#Set range of temperatures\n",
    "temperature_range = range(400,502,25)\n",
    "print(temperature_range)\n",
    "temp_range = []\n",
    "for t in temperature_range:\n",
    "    tr = temp_conv(t)\n",
    "    temp_range.append(tr)\n",
    "    \n",
    "print(temp_range)\n",
    "\n",
    "\n",
    "#Calculate fugacity for each depth or temperature set in simulator\n",
    "fugacity = [] #set empty fugacity list\n",
    "for temperature in temp_range:\n",
    "    \n",
    "    coeff_table()#call coeff table for each temperature\n",
    "    \n",
    "    def fun(v): #optimize for each PT value in array\n",
    "        return eos(temperature, v)-pressure\n",
    "    volume = opt.brentq(fun, 5, 30)\n",
    "       #print(volume)#print volume to show variability\n",
    "    \n",
    "    #calculate fugacity for each PT value now that volume is optimized\n",
    "    fug = PSfug(pressure, temperature, volume)\n",
    "    fugacity.append(fug)\n",
    "    \n",
    "print(fugacity)\n"
   ]
  },
  {
   "cell_type": "code",
   "execution_count": 18,
   "metadata": {
    "collapsed": false,
    "scrolled": true
   },
   "outputs": [
    {
     "ename": "NameError",
     "evalue": "name 'temp_range' is not defined",
     "output_type": "error",
     "traceback": [
      "\u001b[0;31m---------------------------------------------------------------------------\u001b[0m",
      "\u001b[0;31mNameError\u001b[0m                                 Traceback (most recent call last)",
      "\u001b[0;32m<ipython-input-18-401f4b4965f6>\u001b[0m in \u001b[0;36m<module>\u001b[0;34m()\u001b[0m\n\u001b[1;32m      3\u001b[0m \u001b[0;34m\u001b[0m\u001b[0m\n\u001b[1;32m      4\u001b[0m \u001b[0;34m\u001b[0m\u001b[0m\n\u001b[0;32m----> 5\u001b[0;31m \u001b[0mtemperature\u001b[0m \u001b[0;34m=\u001b[0m \u001b[0mnp\u001b[0m\u001b[0;34m.\u001b[0m\u001b[0marray\u001b[0m\u001b[0;34m(\u001b[0m\u001b[0mtemp_range\u001b[0m\u001b[0;34m)\u001b[0m \u001b[0;31m# made this into np array to be able to divide by float\u001b[0m\u001b[0;34m\u001b[0m\u001b[0m\n\u001b[0m\u001b[1;32m      6\u001b[0m \u001b[0;34m\u001b[0m\u001b[0m\n\u001b[1;32m      7\u001b[0m \u001b[0;34m\u001b[0m\u001b[0m\n",
      "\u001b[0;31mNameError\u001b[0m: name 'temp_range' is not defined"
     ]
    }
   ],
   "source": [
    "\n",
    "\n",
    "\n",
    "\n",
    "temperature = np.array(temp_range) # made this into np array to be able to divide by float\n",
    "\n",
    "\n",
    "def calculate_strain_rate(s, flow_law = 'H01'): #s is differential stress, defaults to using Hirth et al flow law\n",
    "    e = (flow_laws[flow_law]['A']*np.power(s,flow_laws[flow_law]['n'])*np.power(fugacity,1)*np.exp(-flow_laws[flow_law]['Q']/(8.3144598*temperature)))\n",
    "    return e\n",
    "\n",
    "def calculate_slip_rate(e, w): #w: width in m, output of mm/yr\n",
    "    width = w*1000\n",
    "    v = width*31536000*e\n",
    "    return v\n",
    "\n",
    "\n",
    "\n",
    "#e = calculate_strain_rate(s, flow_law = 'H01')\n",
    "#print(e)\n",
    "#calculate_slip_rate(e, 30) ### output of mm/yr\n",
    "\n",
    "#result = np.ndarray(shape=(len(flow_laws.keys()), len(e)), dtype=float)\n",
    "\n",
    "# def all_flow_laws(s, w, flow_laws):\n",
    "e = []\n",
    "v = []\n",
    "for key in flow_laws.keys():\n",
    "    ei = calculate_strain_rate(s, flow_law=key)\n",
    "    vi = calculate_slip_rate(ei, 30)\n",
    "    ei = ei.tolist()\n",
    "    e.append(ei)\n",
    "    vi = vi.tolist()\n",
    "    v.append(vi)\n",
    "#     return e, v\n",
    "\n",
    "        \n",
    "def one_flow_law(s, w, flow_law='H01'):    \n",
    "    e = calculate_strain_rate(s, flow_law = 'H01')\n",
    "    print(e) #output of 1/s\n",
    "    v = calculate_slip_rate(e, w) ### output of mm/yr\n",
    "    print(v)\n",
    "    \n",
    "    \n",
    "one_flow_law(s, 30)\n",
    "\n",
    "#all_flow_laws(s, 30, flow_laws=flow_laws)\n",
    "    \n",
    "    \n",
    "# for key in flow_laws.keys():\n",
    "#     print(key)\n",
    "#     e = calculate_strain_rate(s, flow_law=key)\n",
    "#     v = calculate_slip_rate(e, 30)\n",
    "#     print(e)\n",
    "#     print(v)\n",
    "    \n",
    "\n",
    "\n",
    "temperature = temp_conv(temperature, direction=\"K2C\")\n",
    "\n",
    "import pprint\n",
    "\n",
    "\n",
    "#pprint.pprint(v)\n",
    "# pprint.pprint(v[5])\n",
    "# flow_laws.keys()\n",
    "# print(flow_laws)\n",
    "# flow_laws.keys()\n"
   ]
  },
  {
   "cell_type": "code",
   "execution_count": 1,
   "metadata": {
    "collapsed": false
   },
   "outputs": [
    {
     "name": "stderr",
     "output_type": "stream",
     "text": [
      "/Users/bmelosh/anaconda2/lib/python2.7/site-packages/matplotlib/font_manager.py:273: UserWarning: Matplotlib is building the font cache using fc-list. This may take a moment.\n",
      "  warnings.warn('Matplotlib is building the font cache using fc-list. This may take a moment.')\n"
     ]
    },
    {
     "ename": "NameError",
     "evalue": "name 'np' is not defined",
     "output_type": "error",
     "traceback": [
      "\u001b[0;31m---------------------------------------------------------------------------\u001b[0m",
      "\u001b[0;31mNameError\u001b[0m                                 Traceback (most recent call last)",
      "\u001b[0;32m<ipython-input-1-3e25e6ff896b>\u001b[0m in \u001b[0;36m<module>\u001b[0;34m()\u001b[0m\n\u001b[1;32m      5\u001b[0m \u001b[0mfig\u001b[0m \u001b[0;34m=\u001b[0m \u001b[0mplt\u001b[0m\u001b[0;34m.\u001b[0m\u001b[0mfigure\u001b[0m\u001b[0;34m(\u001b[0m\u001b[0;34m)\u001b[0m\u001b[0;34m\u001b[0m\u001b[0m\n\u001b[1;32m      6\u001b[0m \u001b[0;34m\u001b[0m\u001b[0m\n\u001b[0;32m----> 7\u001b[0;31m \u001b[0mcolors\u001b[0m \u001b[0;34m=\u001b[0m \u001b[0miter\u001b[0m\u001b[0;34m(\u001b[0m\u001b[0mcm\u001b[0m\u001b[0;34m.\u001b[0m\u001b[0mgray\u001b[0m\u001b[0;34m(\u001b[0m\u001b[0mnp\u001b[0m\u001b[0;34m.\u001b[0m\u001b[0mlinspace\u001b[0m\u001b[0;34m(\u001b[0m\u001b[0;36m0\u001b[0m\u001b[0;34m,\u001b[0m \u001b[0;36m1\u001b[0m\u001b[0;34m,\u001b[0m \u001b[0mlen\u001b[0m\u001b[0;34m(\u001b[0m\u001b[0me\u001b[0m\u001b[0;34m)\u001b[0m\u001b[0;34m)\u001b[0m\u001b[0;34m)\u001b[0m\u001b[0;34m)\u001b[0m\u001b[0;31m#set color ramp to jet with a line spacing of length e\u001b[0m\u001b[0;34m\u001b[0m\u001b[0m\n\u001b[0m\u001b[1;32m      8\u001b[0m \u001b[0mmarkers\u001b[0m\u001b[0;34m=\u001b[0m\u001b[0;34m[\u001b[0m\u001b[0;34m'o'\u001b[0m\u001b[0;34m,\u001b[0m \u001b[0;34m'v'\u001b[0m\u001b[0;34m,\u001b[0m \u001b[0;34m'^'\u001b[0m\u001b[0;34m,\u001b[0m \u001b[0;34m'<'\u001b[0m\u001b[0;34m,\u001b[0m \u001b[0;34m'>'\u001b[0m\u001b[0;34m,\u001b[0m \u001b[0;34m'8'\u001b[0m\u001b[0;34m,\u001b[0m \u001b[0;34m's'\u001b[0m\u001b[0;34m,\u001b[0m \u001b[0;34m'D'\u001b[0m\u001b[0;34m,\u001b[0m \u001b[0;34m'.'\u001b[0m\u001b[0;34m]\u001b[0m\u001b[0;31m# ',', '+', '4', '.', 'o', '*', 'v', 'D', 's']\u001b[0m\u001b[0;34m\u001b[0m\u001b[0m\n\u001b[1;32m      9\u001b[0m \u001b[0mlstyles\u001b[0m\u001b[0;34m=\u001b[0m\u001b[0;34m[\u001b[0m\u001b[0;34m':'\u001b[0m\u001b[0;34m,\u001b[0m \u001b[0;34m'-.'\u001b[0m\u001b[0;34m,\u001b[0m \u001b[0;34m'--'\u001b[0m\u001b[0;34m,\u001b[0m \u001b[0;34m'-'\u001b[0m\u001b[0;34m,\u001b[0m \u001b[0;34m':'\u001b[0m\u001b[0;34m,\u001b[0m \u001b[0;34m'-.'\u001b[0m\u001b[0;34m,\u001b[0m \u001b[0;34m'--'\u001b[0m\u001b[0;34m,\u001b[0m \u001b[0;34m'-'\u001b[0m\u001b[0;34m,\u001b[0m\u001b[0;34m':'\u001b[0m \u001b[0;34m]\u001b[0m\u001b[0;34m\u001b[0m\u001b[0m\n",
      "\u001b[0;31mNameError\u001b[0m: name 'np' is not defined"
     ]
    }
   ],
   "source": [
    "import matplotlib.pyplot as plt\n",
    "from matplotlib import cm\n",
    "#from matplotlib.lines import Line2D\n",
    "\n",
    "fig = plt.figure()\n",
    "\n",
    "colors = iter(cm.gray(np.linspace(0, 1, len(e))))#set color ramp to jet with a line spacing of length e\n",
    "markers=['o', 'v', '^', '<', '>', '8', 's', 'D', '.']# ',', '+', '4', '.', 'o', '*', 'v', 'D', 's']\n",
    "lstyles=[':', '-.', '--', '-', ':', '-.', '--', '-',':' ]\n",
    "\n",
    "\n",
    "\n",
    "colors = iter(cm.gray(np.linspace(0, 1, len(e))))#set color ramp to jet with a line spacing of length e\n",
    " \n",
    "labels = []\n",
    "# for key in flow_laws.keys():\n",
    "#     l = key\n",
    "#     labels.append(l)\n",
    "#     for i in e:\n",
    "#         plt.plot(temperature, e[i], color=next(colors))\n",
    "\n",
    "\n",
    "for key in flow_laws.keys():\n",
    "    l = key\n",
    "    labels.append(l)\n",
    "\n",
    "for i in range(0, len(e)):\n",
    "    plt.plot(temperature, e[i], color=next(colors), linestyle=lstyles[i] )#marker=markers[i], \n",
    "\n",
    "    \n",
    "plt.xlabel('Temperature ( C)')\n",
    "plt.ylabel('Strain Rate (1/s)')\n",
    "plt.title('Flow Laws')\n",
    "#for i in range(0, len(Tc)):\n",
    " #   plt.text(450,e[i][6],labels[i], fontsize=10, rotation = 8)\n",
    "plt.legend(labels, fontsize=10, loc=4)\n",
    "#plt.grid()\n",
    "plt.show()\n",
    "\n",
    "pdf = PdfPages('StrainRates.pdf')\n",
    "pdf.savefig(fig)\n",
    "pdf.close()\n",
    "\n"
   ]
  },
  {
   "cell_type": "code",
   "execution_count": null,
   "metadata": {
    "collapsed": false
   },
   "outputs": [],
   "source": []
  },
  {
   "cell_type": "code",
   "execution_count": 17,
   "metadata": {
    "collapsed": false
   },
   "outputs": [
    {
     "ename": "NameError",
     "evalue": "name 'v' is not defined",
     "output_type": "error",
     "traceback": [
      "\u001b[0;31m---------------------------------------------------------------------------\u001b[0m",
      "\u001b[0;31mNameError\u001b[0m                                 Traceback (most recent call last)",
      "\u001b[0;32m<ipython-input-17-a2da3b53d565>\u001b[0m in \u001b[0;36m<module>\u001b[0;34m()\u001b[0m\n\u001b[1;32m      4\u001b[0m \u001b[0mfig\u001b[0m \u001b[0;34m=\u001b[0m \u001b[0mplt\u001b[0m\u001b[0;34m.\u001b[0m\u001b[0mfigure\u001b[0m\u001b[0;34m(\u001b[0m\u001b[0;34m)\u001b[0m\u001b[0;34m\u001b[0m\u001b[0m\n\u001b[1;32m      5\u001b[0m \u001b[0;34m\u001b[0m\u001b[0m\n\u001b[0;32m----> 6\u001b[0;31m \u001b[0mcolors\u001b[0m \u001b[0;34m=\u001b[0m \u001b[0miter\u001b[0m\u001b[0;34m(\u001b[0m\u001b[0mcm\u001b[0m\u001b[0;34m.\u001b[0m\u001b[0mgray\u001b[0m\u001b[0;34m(\u001b[0m\u001b[0mnp\u001b[0m\u001b[0;34m.\u001b[0m\u001b[0mlinspace\u001b[0m\u001b[0;34m(\u001b[0m\u001b[0;36m0\u001b[0m\u001b[0;34m,\u001b[0m \u001b[0;36m1\u001b[0m\u001b[0;34m,\u001b[0m \u001b[0mlen\u001b[0m\u001b[0;34m(\u001b[0m\u001b[0mv\u001b[0m\u001b[0;34m)\u001b[0m\u001b[0;34m)\u001b[0m\u001b[0;34m)\u001b[0m\u001b[0;34m)\u001b[0m\u001b[0;31m#set color ramp to jet with a line spacing of length e\u001b[0m\u001b[0;34m\u001b[0m\u001b[0m\n\u001b[0m\u001b[1;32m      7\u001b[0m \u001b[0mlstyles\u001b[0m\u001b[0;34m=\u001b[0m\u001b[0;34m[\u001b[0m\u001b[0;34m':'\u001b[0m\u001b[0;34m,\u001b[0m \u001b[0;34m'-.'\u001b[0m\u001b[0;34m,\u001b[0m \u001b[0;34m'--'\u001b[0m\u001b[0;34m,\u001b[0m \u001b[0;34m'-'\u001b[0m\u001b[0;34m,\u001b[0m \u001b[0;34m':'\u001b[0m\u001b[0;34m,\u001b[0m \u001b[0;34m'-.'\u001b[0m\u001b[0;34m,\u001b[0m \u001b[0;34m'--'\u001b[0m\u001b[0;34m,\u001b[0m \u001b[0;34m'-'\u001b[0m\u001b[0;34m,\u001b[0m\u001b[0;34m':'\u001b[0m \u001b[0;34m]\u001b[0m\u001b[0;34m\u001b[0m\u001b[0m\n\u001b[1;32m      8\u001b[0m \u001b[0;34m\u001b[0m\u001b[0m\n",
      "\u001b[0;31mNameError\u001b[0m: name 'v' is not defined"
     ]
    }
   ],
   "source": [
    "import matplotlib.pyplot as plt\n",
    "from matplotlib import cm\n",
    "\n",
    "fig = plt.figure()\n",
    "\n",
    "colors = iter(cm.gray(np.linspace(0, 1, len(v))))#set color ramp to jet with a line spacing of length e\n",
    "lstyles=[':', '-.', '--', '-', ':', '-.', '--', '-',':' ]\n",
    "\n",
    "plt.gca().set_yscale('log') #set y axis to log \n",
    " \n",
    "labels = []\n",
    "for key in flow_laws.keys():\n",
    "    l = key\n",
    "    labels.append(l)\n",
    "\n",
    "for i in range(0, len(v)):\n",
    "    plt.plot(temperature, v[i], color=next(colors), linestyle=lstyles[i] )\n",
    "    \n",
    "# y=[20,20, 20]\n",
    "# x=[400, 450, 500]\n",
    "# plt.plot(x, y, linestyle='-', linewidth=8)\n",
    "\n",
    "    \n",
    "plt.xlabel('Temperature ( C)')\n",
    "plt.ylabel('Velocity (mm/yr)')\n",
    "plt.title('Slip Rates')\n",
    "#for i in range(0, len(Tc)):\n",
    " #   plt.text(450,e[i][6],labels[i], fontsize=10, rotation = 8)\n",
    "plt.legend(labels, fontsize=10, loc=4)\n",
    "#plt.grid()\n",
    "plt.show()\n",
    "\n",
    "pdf = PdfPages('SlipRates.pdf')\n",
    "pdf.savefig(fig)\n",
    "pdf.close()\n",
    "\n",
    "#pdf = matplotlib.backends.backend_pdf.PdfPages(\"output.pdf\")"
   ]
  },
  {
   "cell_type": "code",
   "execution_count": 1,
   "metadata": {
    "collapsed": false
   },
   "outputs": [
    {
     "ename": "NameError",
     "evalue": "name 'temp_conv' is not defined",
     "output_type": "error",
     "traceback": [
      "\u001b[0;31m---------------------------------------------------------------------------\u001b[0m",
      "\u001b[0;31mNameError\u001b[0m                                 Traceback (most recent call last)",
      "\u001b[0;32m<ipython-input-1-7190159c70d8>\u001b[0m in \u001b[0;36m<module>\u001b[0;34m()\u001b[0m\n\u001b[1;32m      3\u001b[0m \u001b[0ms\u001b[0m \u001b[0;34m=\u001b[0m \u001b[0;36m84\u001b[0m\u001b[0;34m\u001b[0m\u001b[0m\n\u001b[1;32m      4\u001b[0m \u001b[0;34m\u001b[0m\u001b[0m\n\u001b[0;32m----> 5\u001b[0;31m \u001b[0mT\u001b[0m \u001b[0;34m=\u001b[0m \u001b[0mtemp_conv\u001b[0m\u001b[0;34m(\u001b[0m\u001b[0;36m450\u001b[0m\u001b[0;34m)\u001b[0m\u001b[0;34m\u001b[0m\u001b[0m\n\u001b[0m\u001b[1;32m      6\u001b[0m \u001b[0;34m\u001b[0m\u001b[0m\n\u001b[1;32m      7\u001b[0m \u001b[0mx\u001b[0m \u001b[0;34m=\u001b[0m \u001b[0mnp\u001b[0m\u001b[0;34m.\u001b[0m\u001b[0mpower\u001b[0m\u001b[0;34m(\u001b[0m\u001b[0ms\u001b[0m\u001b[0;34m,\u001b[0m\u001b[0;36m4\u001b[0m\u001b[0;34m)\u001b[0m\u001b[0;34m\u001b[0m\u001b[0m\n",
      "\u001b[0;31mNameError\u001b[0m: name 'temp_conv' is not defined"
     ]
    }
   ],
   "source": [
    "#Double checking calculations\n",
    "\n",
    "s = 84\n",
    "\n",
    "T = temp_conv(450)\n",
    "\n",
    "x = np.power(s,4)\n",
    "y = np.power(300,1)\n",
    "z = np.exp(-135000/(8.3144598*T))\n",
    "e = 6.3E-12*x*y*z\n",
    "v = 30000*31536000*e\n",
    "\n",
    "#how to write a test!\n",
    "def test_calculate_slip_rate():\n",
    "    w = 30000\n",
    "    e = 2.043722042401592e-11\n",
    "    slip_rate = calculate_slip_rate(e, w)\n",
    "    assert slip_rate == 19.335245498752982\n",
    "test_calculate_slip_rate()"
   ]
  },
  {
   "cell_type": "code",
   "execution_count": 139,
   "metadata": {
    "collapsed": false
   },
   "outputs": [
    {
     "name": "stdout",
     "output_type": "stream",
     "text": [
      "116.726012438\n"
     ]
    },
    {
     "data": {
      "text/plain": [
       "116.72601243785924"
      ]
     },
     "execution_count": 139,
     "metadata": {},
     "output_type": "execute_result"
    }
   ],
   "source": [
    "\n",
    "pressure_range = range(300, 602, 25)\n",
    "\n",
    "pres_range = []\n",
    "for p in pressure_range:\n",
    "    pr = pres_conv(p)\n",
    "    pres_range.append(pr)\n",
    "\n",
    "#Set range of temperatures\n",
    "temperature_range = range(300,602,25)\n",
    "\n",
    "temp_range = []\n",
    "for t in temperature_range:\n",
    "    tr = temp_conv(t)\n",
    "    temp_range.append(tr)\n",
    "\n",
    "pressure = 400000000\n",
    "#temperature = 723.15\n",
    "    \n",
    "    \n",
    "    \n",
    "#Optimizing equation to solve for volume\n",
    "def fugacity_calculator(pressure, temperature):\n",
    "\n",
    "    def fun(v):\n",
    "        return eos(temperature, v)- pressure\n",
    "    volume = opt.brentq(fun, 5, 30) #Volume in cc/mol\n",
    "\n",
    "    #Calculate fugacity \n",
    "    fugacity = PSfug(pressure, temperature, volume)\n",
    "    print(fugacity)\n",
    "    \n",
    "    return fugacity\n",
    "\n",
    "# for temperature in temp_range:\n",
    "#         fugacity_calculator()\n",
    "\n",
    "#fugacity_calculator([400000000, 300000000], [723, 623])\n",
    "\n",
    "fugacity_calculator(400000000, 723)\n",
    "\n",
    "\n"
   ]
  },
  {
   "cell_type": "code",
   "execution_count": null,
   "metadata": {
    "collapsed": false
   },
   "outputs": [],
   "source": []
  },
  {
   "cell_type": "code",
   "execution_count": null,
   "metadata": {
    "collapsed": false
   },
   "outputs": [],
   "source": []
  },
  {
   "cell_type": "code",
   "execution_count": 18,
   "metadata": {
    "collapsed": false
   },
   "outputs": [
    {
     "name": "stderr",
     "output_type": "stream",
     "text": [
      "/Users/bmelosh/anaconda2/lib/python2.7/site-packages/matplotlib/font_manager.py:273: UserWarning: Matplotlib is building the font cache using fc-list. This may take a moment.\n",
      "  warnings.warn('Matplotlib is building the font cache using fc-list. This may take a moment.')\n"
     ]
    },
    {
     "ename": "IndexError",
     "evalue": "list index out of range",
     "output_type": "error",
     "traceback": [
      "\u001b[0;31m---------------------------------------------------------------------------\u001b[0m",
      "\u001b[0;31mIndexError\u001b[0m                                Traceback (most recent call last)",
      "\u001b[0;32m<ipython-input-18-20fa97178fea>\u001b[0m in \u001b[0;36m<module>\u001b[0;34m()\u001b[0m\n\u001b[1;32m     43\u001b[0m     \u001b[0mf\u001b[0m \u001b[0;34m=\u001b[0m \u001b[0;34m[\u001b[0m\u001b[0;34m]\u001b[0m\u001b[0;34m\u001b[0m\u001b[0m\n\u001b[1;32m     44\u001b[0m     \u001b[0;32mfor\u001b[0m \u001b[0mi\u001b[0m \u001b[0;32min\u001b[0m \u001b[0mrange\u001b[0m\u001b[0;34m(\u001b[0m\u001b[0;36m0\u001b[0m\u001b[0;34m,\u001b[0m \u001b[0mlen\u001b[0m\u001b[0;34m(\u001b[0m\u001b[0mTk\u001b[0m\u001b[0;34m)\u001b[0m\u001b[0;34m)\u001b[0m\u001b[0;34m:\u001b[0m\u001b[0;34m\u001b[0m\u001b[0m\n\u001b[0;32m---> 45\u001b[0;31m         \u001b[0melement\u001b[0m \u001b[0;34m=\u001b[0m \u001b[0mcalculate_strain_rate\u001b[0m\u001b[0;34m(\u001b[0m\u001b[0ms\u001b[0m\u001b[0;34m,\u001b[0m \u001b[0mflow_law\u001b[0m \u001b[0;34m=\u001b[0m \u001b[0mflow_laws\u001b[0m\u001b[0;34m.\u001b[0m\u001b[0mkeys\u001b[0m\u001b[0;34m(\u001b[0m\u001b[0;34m)\u001b[0m\u001b[0;34m[\u001b[0m\u001b[0mi\u001b[0m\u001b[0;34m]\u001b[0m\u001b[0;34m)\u001b[0m\u001b[0;31m#FL[j][1]*s**(FL[j][2])*math.exp(-FL[j][3]/(R*Tk[i]))#Flow law equation\u001b[0m\u001b[0;34m\u001b[0m\u001b[0m\n\u001b[0m\u001b[1;32m     46\u001b[0m         \u001b[0mf\u001b[0m\u001b[0;34m.\u001b[0m\u001b[0mappend\u001b[0m\u001b[0;34m(\u001b[0m\u001b[0melement\u001b[0m\u001b[0;34m)\u001b[0m\u001b[0;34m\u001b[0m\u001b[0m\n\u001b[1;32m     47\u001b[0m         \u001b[0;32mif\u001b[0m \u001b[0mlen\u001b[0m\u001b[0;34m(\u001b[0m\u001b[0mf\u001b[0m\u001b[0;34m)\u001b[0m \u001b[0;34m==\u001b[0m \u001b[0mlen\u001b[0m\u001b[0;34m(\u001b[0m\u001b[0mTk\u001b[0m\u001b[0;34m)\u001b[0m\u001b[0;34m:\u001b[0m\u001b[0;34m\u001b[0m\u001b[0m\n",
      "\u001b[0;31mIndexError\u001b[0m: list index out of range"
     ]
    }
   ],
   "source": []
  },
  {
   "cell_type": "code",
   "execution_count": null,
   "metadata": {
    "collapsed": false
   },
   "outputs": [],
   "source": []
  },
  {
   "cell_type": "code",
   "execution_count": null,
   "metadata": {
    "collapsed": false,
    "scrolled": false
   },
   "outputs": [],
   "source": []
  },
  {
   "cell_type": "markdown",
   "metadata": {},
   "source": []
  },
  {
   "cell_type": "code",
   "execution_count": null,
   "metadata": {
    "collapsed": false,
    "scrolled": false
   },
   "outputs": [],
   "source": []
  },
  {
   "cell_type": "code",
   "execution_count": 79,
   "metadata": {
    "collapsed": false
   },
   "outputs": [
    {
     "ename": "ValueError",
     "evalue": "No such figure: None",
     "output_type": "error",
     "traceback": [
      "\u001b[0;31m---------------------------------------------------------------------------\u001b[0m",
      "\u001b[0;31mValueError\u001b[0m                                Traceback (most recent call last)",
      "\u001b[0;32m<ipython-input-79-7a82eb63efcc>\u001b[0m in \u001b[0;36m<module>\u001b[0;34m()\u001b[0m\n\u001b[1;32m      3\u001b[0m \u001b[0;34m\u001b[0m\u001b[0m\n\u001b[1;32m      4\u001b[0m \u001b[0;32mwith\u001b[0m \u001b[0mPdfPages\u001b[0m\u001b[0;34m(\u001b[0m\u001b[0;34m'SlipRatesNEW.pdf'\u001b[0m\u001b[0;34m)\u001b[0m \u001b[0;32mas\u001b[0m \u001b[0mpdf\u001b[0m\u001b[0;34m:\u001b[0m\u001b[0;34m\u001b[0m\u001b[0m\n\u001b[0;32m----> 5\u001b[0;31m     \u001b[0mpdf\u001b[0m\u001b[0;34m.\u001b[0m\u001b[0msavefig\u001b[0m\u001b[0;34m(\u001b[0m\u001b[0;34m)\u001b[0m  \u001b[0;31m# saves the current figure into a pdf page\u001b[0m\u001b[0;34m\u001b[0m\u001b[0m\n\u001b[0m",
      "\u001b[0;32m/Users/bmelosh/anaconda2/lib/python2.7/site-packages/matplotlib/backends/backend_pdf.pyc\u001b[0m in \u001b[0;36msavefig\u001b[0;34m(self, figure, **kwargs)\u001b[0m\n\u001b[1;32m   2478\u001b[0m                 \u001b[0mfigureManager\u001b[0m \u001b[0;34m=\u001b[0m \u001b[0mGcf\u001b[0m\u001b[0;34m.\u001b[0m\u001b[0mget_fig_manager\u001b[0m\u001b[0;34m(\u001b[0m\u001b[0mfigure\u001b[0m\u001b[0;34m)\u001b[0m\u001b[0;34m\u001b[0m\u001b[0m\n\u001b[1;32m   2479\u001b[0m             \u001b[0;32mif\u001b[0m \u001b[0mfigureManager\u001b[0m \u001b[0;32mis\u001b[0m \u001b[0mNone\u001b[0m\u001b[0;34m:\u001b[0m\u001b[0;34m\u001b[0m\u001b[0m\n\u001b[0;32m-> 2480\u001b[0;31m                 \u001b[0;32mraise\u001b[0m \u001b[0mValueError\u001b[0m\u001b[0;34m(\u001b[0m\u001b[0;34m\"No such figure: \"\u001b[0m \u001b[0;34m+\u001b[0m \u001b[0mrepr\u001b[0m\u001b[0;34m(\u001b[0m\u001b[0mfigure\u001b[0m\u001b[0;34m)\u001b[0m\u001b[0;34m)\u001b[0m\u001b[0;34m\u001b[0m\u001b[0m\n\u001b[0m\u001b[1;32m   2481\u001b[0m             \u001b[0;32melse\u001b[0m\u001b[0;34m:\u001b[0m\u001b[0;34m\u001b[0m\u001b[0m\n\u001b[1;32m   2482\u001b[0m                 figureManager.canvas.figure.savefig(self, format='pdf',\n",
      "\u001b[0;31mValueError\u001b[0m: No such figure: None"
     ]
    }
   ],
   "source": [
    "#Save figure to pdf\n",
    "from matplotlib.backends.backend_pdf import PdfPages\n",
    "\n",
    "with PdfPages('SlipRatesNEW.pdf') as pdf:\n",
    "    pdf.savefig()  # saves the current figure into a pdf page"
   ]
  },
  {
   "cell_type": "code",
   "execution_count": null,
   "metadata": {
    "collapsed": false
   },
   "outputs": [],
   "source": []
  },
  {
   "cell_type": "code",
   "execution_count": null,
   "metadata": {
    "collapsed": true
   },
   "outputs": [],
   "source": []
  }
 ],
 "metadata": {
  "anaconda-cloud": {},
  "kernelspec": {
   "display_name": "Python [default]",
   "language": "python",
   "name": "python2"
  },
  "language_info": {
   "codemirror_mode": {
    "name": "ipython",
    "version": 2
   },
   "file_extension": ".py",
   "mimetype": "text/x-python",
   "name": "python",
   "nbconvert_exporter": "python",
   "pygments_lexer": "ipython2",
   "version": "2.7.12"
  }
 },
 "nbformat": 4,
 "nbformat_minor": 0
}
