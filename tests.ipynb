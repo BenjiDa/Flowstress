{
 "cells": [
  {
   "cell_type": "code",
   "execution_count": 1,
   "metadata": {
    "collapsed": true
   },
   "outputs": [],
   "source": [
    "import numpy as np \n",
    "from scipy.constants.constants import C2K, K2C\n",
    "import math\n",
    "from scipy import optimize as opt # for optimization"
   ]
  },
  {
   "cell_type": "code",
   "execution_count": null,
   "metadata": {
    "collapsed": true
   },
   "outputs": [],
   "source": []
  },
  {
   "cell_type": "code",
   "execution_count": 2,
   "metadata": {
    "collapsed": true
   },
   "outputs": [],
   "source": [
    " #DEFINE EQUATIONS OF STATE\n",
    "    \n",
    "    #define coefficient tables\n",
    "PScoeff = np.zeros([10,10])\n",
    "\n",
    "PScoeff[0][2]=0.24657688*math.pow(10,6)\n",
    "PScoeff[0][3]=0.51359951*math.pow(10,2) \n",
    "PScoeff[1][2]=0.58638965*math.pow(10,0) \n",
    "PScoeff[1][3]=-0.28646939*math.pow(10,-2) \n",
    "PScoeff[1][4]=0.31375577*math.pow(10,-4) \n",
    "PScoeff[2][2]=-0.62783840*math.pow(10,1) \n",
    "PScoeff[2][3]=0.14791599*math.pow(10,-1) \n",
    "PScoeff[2][4]=0.35779579*math.pow(10,-3) \n",
    "PScoeff[2][5]=0.15432925*math.pow(10,-7) \n",
    "PScoeff[3][3]=-0.42719875*math.pow(10,0) \n",
    "PScoeff[3][4]=-0.16325155*math.pow(10,-4) \n",
    "PScoeff[4][2]=0.56654978*math.pow(10,4) \n",
    "PScoeff[4][3]=-0.16580167*math.pow(10,2) \n",
    "PScoeff[4][4]=0.76560762*math.pow(10,-1) \n",
    "PScoeff[5][3]=0.10917883*math.pow(10,0) \n",
    "PScoeff[6][0]=0.38878656*math.pow(10,13) \n",
    "PScoeff[6][1]=-0.13494878*math.pow(10,9) \n",
    "PScoeff[6][2]=0.30916564*math.pow(10,6)\n",
    "PScoeff[6][3]=0.75591105*math.pow(10,1) \n",
    "PScoeff[7][2]=-0.65537898*math.pow(10,5) \n",
    "PScoeff[7][3]=0.18810675*math.pow(10,3) \n",
    "PScoeff[8][0]=-0.14182435*math.pow(10,14) \n",
    "PScoeff[8][1]=0.18165390*math.pow(10,9) \n",
    "PScoeff[8][2]=-0.19769068*math.pow(10,6)\n",
    "PScoeff[8][3]=-0.23530318*math.pow(10,2)\n",
    "PScoeff[9][2]=0.92093375*math.pow(10,5)\n",
    "PScoeff[9][3]=0.12246777*math.pow(10,3)\n",
    "\n",
    "cs = np.zeros([10]) \n",
    "\n",
    "def calculate_coefficient_table(temperature):\n",
    "    for i in range(0, len(PScoeff)):\n",
    "        cs[i]=PScoeff[i][0]*math.pow(temperature,-4)+PScoeff[i][1]*math.pow(temperature,-2)\\\n",
    "        +PScoeff[i][2]*math.pow(temperature,-1)\\\n",
    "        +PScoeff[i][3]+PScoeff[i][4]*temperature+PScoeff[i][5]*math.pow(temperature,2)\n",
    "\n",
    "#Solve Equation of state, Eq 2 of Pitzer and Sterner (1994)\n",
    "#Returns pressure in Pa\n",
    "#class EquationsOfState():\n",
    "\n",
    "def eos(T, V):\n",
    "    den = 1/V\n",
    "    R = 8314472\n",
    "    var_num = cs[2]+2*cs[3]*den+3*cs[4]*math.pow(den,2)+4*cs[5]*math.pow(den,3)\n",
    "    var_denom = math.pow((cs[1]+cs[2]*den+cs[3]*math.pow(den,2)+cs[4]*math.pow(den,3)+cs[5]*math.pow(den,4)),2)\n",
    "    pressure=den+cs[0]*math.pow(den,2)-math.pow(den,2)*(var_num/var_denom)\n",
    "    pressure= pressure + (cs[6]*math.pow(den,2)*math.exp(-cs[7]*den)+cs[8]*math.pow(den,2)*math.exp(-cs[9]*den))\n",
    "    pressure = pressure*(R*T) #pressure in Pa\n",
    "    return pressure\n",
    "\n",
    "#Solve for fugacity, Eq 1 of Pitzer and Sterner (1994)\n",
    "#Returns fugacity in MPa\n",
    "def PSfug(P,T,V):\n",
    "    den=1/V;\n",
    "    R=8314472;\n",
    "    quotient = cs[0]*den+(1/(cs[1]+cs[2]*den+cs[3]*math.pow(den,2)+cs[4]*math.pow(den,3)+cs[5]*math.pow(den,4))-1/cs[1])\n",
    "    quotient-= cs[6]/cs[7]*(math.exp(-cs[7]*den)-1)\n",
    "    quotient-= cs[8]/cs[9]*(math.exp(-cs[9]*den)-1)\n",
    "    lnf=(math.log(den)+ quotient+P/(den*R*T))+math.log(R*T)-1\n",
    "    return math.exp(lnf)/1e6 # fugacity in MPa\n",
    "\n",
    "#Create fugacity calculator\n",
    "#Optimizing equation to solve for volume\n",
    "def fugacity_optimizer(temperature,pressure):\n",
    "\n",
    "    def fun(v):\n",
    "        return eos(temperature, v)- pressure\n",
    "    volume = opt.brentq(fun, 5, 30) #Volume in cc/mol\n",
    "\n",
    "    #Calculate fugacity \n",
    "    fugacity = PSfug(pressure, temperature, volume)\n",
    "    \n",
    "    return fugacity"
   ]
  },
  {
   "cell_type": "code",
   "execution_count": null,
   "metadata": {
    "collapsed": false
   },
   "outputs": [],
   "source": []
  },
  {
   "cell_type": "code",
   "execution_count": 3,
   "metadata": {
    "collapsed": true
   },
   "outputs": [],
   "source": [
    "##CALCULATE FUGACITY\n",
    "#Takes imputs of pressure and temperature converts them from MPa and C to Pa and K \n",
    "\n",
    "class FugacityCalculator():\n",
    "    def __init__(self, temperature_values, pressure_values):\n",
    "        self.temperature = C2K(np.array(temperature_values))\n",
    "        self.pressure = np.array(pressure_values)*1.0E6\n",
    "        self.fugacity = []\n",
    "\n",
    "        \n",
    "    def calculate_fugacity(self):\n",
    "        \n",
    "        for t in self.temperature:\n",
    "            for p in self.pressure:\n",
    "                calculate_coefficient_table(t)\n",
    "                fug = fugacity_optimizer(t,p)\n",
    "                self.fugacity.append(fug)\n",
    "        return self.fugacity"
   ]
  },
  {
   "cell_type": "code",
   "execution_count": null,
   "metadata": {
    "collapsed": true
   },
   "outputs": [],
   "source": []
  },
  {
   "cell_type": "code",
   "execution_count": 3,
   "metadata": {
    "collapsed": true
   },
   "outputs": [],
   "source": [
    "#CALCULATE DIFFERENTIAL STRESS\n",
    "#takes paleopiezometer constants from the literature and input of grain size in microns\n",
    "\n",
    "\n",
    "\n",
    "\n",
    "def calculate_differential_stress(grain_size):\n",
    "    differential_stress = []\n",
    "    for grain in grain_size:\n",
    "        part = (math.log(grain)-math.log(CONSTANT_B))/EXPONENT\n",
    "        part2 = math.exp(part)\n",
    "        differential_stress.append(part2)\n",
    "    return differential_stress"
   ]
  },
  {
   "cell_type": "code",
   "execution_count": 4,
   "metadata": {
    "collapsed": true
   },
   "outputs": [],
   "source": [
    "#CALCULATE STRAIN RATE\n",
    "#Takes flow law constants from the literature and input of differential stress and fugacity, pressure and temperature\n",
    "\n",
    "\n",
    "\n",
    "def calculate_strain_rate(differential_stress, temperature, fugacity, flow_law=None): \n",
    "\n",
    "    strain_rate = []\n",
    "    \n",
    "    for t in temperature:\n",
    "        for f in fugacity:\n",
    "            for stress in differential_stress:\n",
    "                sr = (FLOW_LAWS[flow_law]['A']*np.power(stress, FLOW_LAWS[flow_law]['n'])*np.power(f,1)*np.exp(-FLOW_LAWS[flow_law]['Q']/(8.3144598*t)))\n",
    "                srn = np.float64(sr).item()\n",
    "                strain_rate.append(srn)\n",
    "    return strain_rate\n",
    "\n"
   ]
  },
  {
   "cell_type": "code",
   "execution_count": 5,
   "metadata": {
    "collapsed": true
   },
   "outputs": [],
   "source": [
    "#CALCULATE SLIP RATE\n",
    "#Takes strain rate and width\n",
    "\n",
    "def calculate_slip_rate(strain_rate, width): #width in m, output of mm/yr\n",
    "    velocities = []\n",
    "    \n",
    "    for w in width: \n",
    "\n",
    "        for strain in strain_rate:\n",
    "        \n",
    "            vel = w*1000*31536000*strain\n",
    "            velocities.append(vel)\n",
    "        \n",
    "    return velocities"
   ]
  },
  {
   "cell_type": "code",
   "execution_count": 12,
   "metadata": {
    "collapsed": true
   },
   "outputs": [],
   "source": [
    "FLOW_LAWS = {\n",
    "    \"KT84\": {\"A\": 2.2E-6, \"n\": 2.7, \"Q\": 1.2E5},\n",
    "    'GT95wm': {\"A\": 1.8E-8, \"n\": 4, \"Q\": 1.37E5},\n",
    "    'J84': {\"A\": 2.88E-3, \"n\": 1.8, \"Q\": 1.51E5},\n",
    "    'K89': {\"A\": 1.1E-6, \"n\": 2.7, \"Q\": 1.34E5},\n",
    "    'HC82': {\"A\": 1.99E-2, \"n\": 1.8, \"Q\": 1.67E5},\n",
    "    'LP92g': {\"A\": 6.6E-8, \"n\": 3.1, \"Q\": 1.35E5},\n",
    "    'LP92a': {\"A\": 3.98E-10, \"n\": 4, \"Q\": 1.35E5},\n",
    "    \"H01\":  {\"A\": 6.3E-12, \"n\": 4, \"Q\": 1.35E5}, \n",
    "    \"RB04\": {\"A\": 1.2E-5, \"n\": 2.97, \"Q\": 2.42E5}\n",
    "    }\n",
    "\n",
    "#Constants\n",
    "CONSTANT_B = 2451 #(Holyoke 2010) #3631 (Stipp and Tullis, 2003)\n",
    "\n",
    "EXPONENT =  -1.26\n",
    "#1.45E4 -1.47 Twiss 1977\n",
    "\n",
    "class FlowStressCalculator():\n",
    "    def __init__(self, temperature_values, pressure_values, grain_size):\n",
    "        self.temperature = C2K(np.array(temperature_values))\n",
    "        self.pressure = np.array(pressure_values)*1.0E6\n",
    "        self.grain_size = grain_size\n",
    "        self.fugacity = []\n",
    "        self.differential_stress = []\n",
    "        self.strain_rate = []\n",
    "        self.slip_rate= []  \n",
    "\n",
    "        \n",
    "    def calculate_fugacity(self):\n",
    "        \n",
    "        for t in self.temperature:\n",
    "            for p in self.pressure:\n",
    "                calculate_coefficient_table(t)\n",
    "                fug = fugacity_optimizer(t,p)\n",
    "                self.fugacity.append(fug)\n",
    "        return self.fugacity\n",
    "\n",
    "\n",
    "    def calculate_differential_stress(self):\n",
    "        \n",
    "        for grain in self.grain_size:\n",
    "            part = math.exp((math.log(grain)-math.log(CONSTANT_B))/EXPONENT)\n",
    "            self.differential_stress.append(part)\n",
    "        return self.differential_stress\n",
    "\n",
    "\n",
    "    def calculate_strain_rate(self, flow_law='H01'): \n",
    "          \n",
    "        for t, f in zip(self.temperature, self.fugacity):\n",
    "            for stress in self.differential_stress:\n",
    "                sr = (FLOW_LAWS[flow_law]['A']*np.power(stress, FLOW_LAWS[flow_law]['n'])*np.power(f,1)*np.exp(-FLOW_LAWS[flow_law]['Q']/(8.3144598*t)))\n",
    "                self.strain_rate.append(sr)\n",
    "        \n",
    "        return self.strain_rate\n",
    "\n",
    "    def calculate_slip_rate(self, strain_rate, width): #width in m, output of mm/yr\n",
    "        \n",
    "        for w in width: \n",
    "\n",
    "            for strain in strain_rate:\n",
    "            \n",
    "                vel = w*1000*31536000*strain\n",
    "                self.slip_rate.append(vel)\n",
    "            \n",
    "        return self.slip_rate"
   ]
  },
  {
   "cell_type": "code",
   "execution_count": 14,
   "metadata": {
    "collapsed": false
   },
   "outputs": [
    {
     "name": "stdout",
     "output_type": "stream",
     "text": [
      "[116.71651725233453]\n",
      "[78.75972939002484]\n",
      "[5.0181530333149198e-12]\n",
      "[4.7475742217585797]\n"
     ]
    }
   ],
   "source": [
    "#EXECUTE\n",
    "temperature = [450]\n",
    "pressure = [400]\n",
    "width = [30]\n",
    "grain_size =[10]\n",
    "\n",
    "\n",
    "f = FlowStressCalculator(temperature,pressure, grain_size)\n",
    "fugacity = f.calculate_fugacity()\n",
    "print(fugacity)\n",
    "differential_stress = f.calculate_differential_stress()\n",
    "print(differential_stress)\n",
    "sr = f.calculate_strain_rate()\n",
    "print(sr)\n",
    "slip = f.calculate_slip_rate(sr, width)\n",
    "print(slip)\n",
    "\n",
    "# #extract temp values\n",
    "# temperature = []\n",
    "# for t in range(0, len(fugacity_calculations)):\n",
    "#     xx = K2C(fugacity_calculations[t][0])\n",
    "#     temperature.append(xx)\n",
    "\n",
    "\n",
    "## Calculate strain rate and differential stress\n",
    "#s = calculate_differential_stress(grain_size)\n",
    "\n",
    "#sr = calculate_strain_rate(s, f.temperature, f.fugacity, flow_law='H01')\n",
    "#v = calculate_slip_rate(sr, width)\n",
    "\n",
    "\n",
    "# print(s)\n",
    "# print(fugacity_calculations)\n",
    "# print(sr)\n",
    "#print(v)\n"
   ]
  },
  {
   "cell_type": "code",
   "execution_count": 19,
   "metadata": {
    "collapsed": false
   },
   "outputs": [
    {
     "data": {
      "text/plain": [
       "[6.0478134023547439e-18]"
      ]
     },
     "execution_count": 19,
     "metadata": {},
     "output_type": "execute_result"
    }
   ],
   "source": [
    "strain_rate=[] \n",
    "def calculate_strain_rate(flow_law='H01'): \n",
    "    \n",
    "    for t, f in zip(temperature, fugacity):\n",
    "        for stress in differential_stress:\n",
    "            sr = (FLOW_LAWS[flow_law]['A']*np.power(stress, FLOW_LAWS[flow_law]['n'])*np.power(f,1)*np.exp(-FLOW_LAWS[flow_law]['Q']/(8.3144598*t)))\n",
    "            strain_rate.append(sr)\n",
    "    return strain_rate\n",
    "calculate_strain_rate()"
   ]
  },
  {
   "cell_type": "code",
   "execution_count": null,
   "metadata": {
    "collapsed": false
   },
   "outputs": [],
   "source": [
    "flow_law = 'H01'\n",
    "for t, f in zip(temperature, fugacity):\n",
    "    for stress in differential_stress:\n",
    "        sr = (FLOW_LAWS[flow_law]['A']*np.power(stress, FLOW_LAWS[flow_law]['n'])*np.power(f,1)*np.exp(-FLOW_LAWS[flow_law]['Q']/(8.3144598*t)))\n",
    "        strain_rate.append(sr)\n",
    "        \n",
    "strain_rate"
   ]
  },
  {
   "cell_type": "code",
   "execution_count": null,
   "metadata": {
    "collapsed": false
   },
   "outputs": [],
   "source": []
  },
  {
   "cell_type": "code",
   "execution_count": null,
   "metadata": {
    "collapsed": true
   },
   "outputs": [],
   "source": []
  }
 ],
 "metadata": {
  "anaconda-cloud": {},
  "kernelspec": {
   "display_name": "Python [conda root]",
   "language": "python",
   "name": "conda-root-py"
  },
  "language_info": {
   "codemirror_mode": {
    "name": "ipython",
    "version": 2
   },
   "file_extension": ".py",
   "mimetype": "text/x-python",
   "name": "python",
   "nbconvert_exporter": "python",
   "pygments_lexer": "ipython2",
   "version": "2.7.12"
  }
 },
 "nbformat": 4,
 "nbformat_minor": 1
}
