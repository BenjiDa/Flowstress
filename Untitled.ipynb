{
 "cells": [
  {
   "cell_type": "code",
   "execution_count": 110,
   "metadata": {
    "collapsed": true
   },
   "outputs": [],
   "source": [
    "import numpy as np \n",
    "from scipy.constants.constants import C2K\n",
    "import math\n",
    "from scipy import optimize as opt # for optimization\n"
   ]
  },
  {
   "cell_type": "code",
   "execution_count": 114,
   "metadata": {
    "collapsed": false
   },
   "outputs": [],
   "source": [
    " #Calculating equation of state and fugacity\n",
    "\n",
    "#Solve Equation of state, Eq 2 of Pitzer and Sterner (1994)\n",
    "#Returns pressure in Pa\n",
    "def eos(T, V):\n",
    "    den = 1/V\n",
    "    R = 8314472\n",
    "    var_num = cs[2]+2*cs[3]*den+3*cs[4]*math.pow(den,2)+4*cs[5]*math.pow(den,3)\n",
    "    var_denom = math.pow((cs[1]+cs[2]*den+cs[3]*math.pow(den,2)+cs[4]*math.pow(den,3)+cs[5]*math.pow(den,4)),2)\n",
    "    pressure=den+cs[0]*math.pow(den,2)-math.pow(den,2)*(var_num/var_denom)\n",
    "    pressure= pressure + (cs[6]*math.pow(den,2)*math.exp(-cs[7]*den)+cs[8]*math.pow(den,2)*math.exp(-cs[9]*den))\n",
    "    pressure = pressure*(R*T) #pressure in Pa\n",
    "    return pressure\n",
    "\n",
    "#Solve for fugacity, Eq 1 of Pitzer and Sterner (1994)\n",
    "#Returns fugacity in MPa\n",
    "def PSfug(P,T,V):\n",
    "    den=1/V;\n",
    "    R=8314472;\n",
    "    quotient = cs[0]*den+(1/(cs[1]+cs[2]*den+cs[3]*math.pow(den,2)+cs[4]*math.pow(den,3)+cs[5]*math.pow(den,4))-1/cs[1])\n",
    "    quotient-= cs[6]/cs[7]*(math.exp(-cs[7]*den)-1)\n",
    "    quotient-= cs[8]/cs[9]*(math.exp(-cs[9]*den)-1)\n",
    "    lnf=(math.log(den)+ quotient+P/(den*R*T))+math.log(R*T)-1\n",
    "    return math.exp(lnf)/1e6 # fugacity in MPa\n",
    "\n",
    "#Optimizing equation to solve for volume\n",
    "def fugacity_calculator(temperature,pressure):\n",
    "\n",
    "    def fun(v):\n",
    "        return eos(temperature, v)- pressure\n",
    "    volume = opt.brentq(fun, 5, 30) #Volume in cc/mol\n",
    "\n",
    "    #Calculate fugacity \n",
    "    fugacity = PSfug(pressure, temperature, volume)\n",
    "    \n",
    "    return fugacity\n"
   ]
  },
  {
   "cell_type": "code",
   "execution_count": 140,
   "metadata": {
    "collapsed": false
   },
   "outputs": [],
   "source": [
    "PScoeff = np.zeros([10,10])\n",
    "\n",
    "PScoeff[0][2]=0.24657688*math.pow(10,6)\n",
    "PScoeff[0][3]=0.51359951*math.pow(10,2) \n",
    "PScoeff[1][2]=0.58638965*math.pow(10,0) \n",
    "PScoeff[1][3]=-0.28646939*math.pow(10,-2) \n",
    "PScoeff[1][4]=0.31375577*math.pow(10,-4) \n",
    "PScoeff[2][2]=-0.62783840*math.pow(10,1) \n",
    "PScoeff[2][3]=0.14791599*math.pow(10,-1) \n",
    "PScoeff[2][4]=0.35779579*math.pow(10,-3) \n",
    "PScoeff[2][5]=0.15432925*math.pow(10,-7) \n",
    "PScoeff[3][3]=-0.42719875*math.pow(10,0) \n",
    "PScoeff[3][4]=-0.16325155*math.pow(10,-4) \n",
    "PScoeff[4][2]=0.56654978*math.pow(10,4) \n",
    "PScoeff[4][3]=-0.16580167*math.pow(10,2) \n",
    "PScoeff[4][4]=0.76560762*math.pow(10,-1) \n",
    "PScoeff[5][3]=0.10917883*math.pow(10,0) \n",
    "PScoeff[6][0]=0.38878656*math.pow(10,13) \n",
    "PScoeff[6][1]=-0.13494878*math.pow(10,9) \n",
    "PScoeff[6][2]=0.30916564*math.pow(10,6)\n",
    "PScoeff[6][3]=0.75591105*math.pow(10,1) \n",
    "PScoeff[7][2]=-0.65537898*math.pow(10,5) \n",
    "PScoeff[7][3]=0.18810675*math.pow(10,3) \n",
    "PScoeff[8][0]=-0.14182435*math.pow(10,14) \n",
    "PScoeff[8][1]=0.18165390*math.pow(10,9) \n",
    "PScoeff[8][2]=-0.19769068*math.pow(10,6)\n",
    "PScoeff[8][3]=-0.23530318*math.pow(10,2)\n",
    "PScoeff[9][2]=0.92093375*math.pow(10,5)\n",
    "PScoeff[9][3]=0.12246777*math.pow(10,3)\n",
    "\n",
    "cs = np.zeros([10]) \n",
    "\n",
    "def calculate_coefficient_table(temperature):\n",
    "    for i in range(0, len(PScoeff)):\n",
    "        cs[i]=PScoeff[i][0]*math.pow(temperature,-4)+PScoeff[i][1]*math.pow(temperature,-2)\\\n",
    "        +PScoeff[i][2]*math.pow(temperature,-1)\\\n",
    "        +PScoeff[i][3]+PScoeff[i][4]*temperature+PScoeff[i][5]*math.pow(temperature,2)\n",
    "\n",
    "class FugacityCalculator():\n",
    "    def __init__(self, temperature_values, pressure_values):\n",
    "        self.temperature = C2K(np.arange(temperature_values[0],temperature_values[1]+1))\n",
    "        self.pressure = self.convert_mpa_to_pa(pressure_values)\n",
    "        self.temperature_and_pressure = self.combine_temp_and_pressure_values()\n",
    "    \n",
    "    @staticmethod\n",
    "    def convert_mpa_to_pa(pressure_values):\n",
    "        pressures = np.arange(pressure_values[0],pressure_values[1]+1)\n",
    "        for i,p in enumerate(pressures):\n",
    "            Ppa = round(p*1.0E6)\n",
    "            pressures[i] = Ppa\n",
    "        return pressures \n",
    "    \n",
    "    def combine_temp_and_pressure_values(self):\n",
    "        all_values = []\n",
    "        for i,temp in enumerate(self.temperature):\n",
    "            temp_and_pressure = (temp,self.pressure[i])\n",
    "            all_values.append(temp_and_pressure)\n",
    "        return all_values\n",
    "        \n",
    "    def calculate_fugacity(self): \n",
    "        temperature_pressure_fugacity = []\n",
    "        for t,p in self.temperature_and_pressure: \n",
    "            calculate_coefficient_table(t)\n",
    "            fugacity = fugacity_calculator(t,p)\n",
    "            values = (t,p,fugacity)\n",
    "            temperature_pressure_fugacity.append(values)\n",
    "        return temperature_pressure_fugacity\n",
    "            \n",
    "            \n",
    "        \n",
    "                \n",
    "    \n",
    "    \n",
    "    \n",
    "    "
   ]
  },
  {
   "cell_type": "code",
   "execution_count": 142,
   "metadata": {
    "collapsed": false
   },
   "outputs": [
    {
     "data": {
      "text/plain": [
       "[(723.14999999999998, 400000000, 116.71651725233453),\n",
       " (724.14999999999998, 401000000, 117.76612609741586),\n",
       " (725.14999999999998, 402000000, 118.82189272432407),\n",
       " (726.14999999999998, 403000000, 119.8838291547742),\n",
       " (727.14999999999998, 404000000, 120.95194732469206),\n",
       " (728.14999999999998, 405000000, 122.02625908429633),\n",
       " (729.14999999999998, 406000000, 123.10677619817122),\n",
       " (730.14999999999998, 407000000, 124.19351034536815),\n",
       " (731.14999999999998, 408000000, 125.28647311949055),\n",
       " (732.14999999999998, 409000000, 126.38567602879517),\n",
       " (733.14999999999998, 410000000, 127.49113049628843),\n",
       " (734.14999999999998, 411000000, 128.6028478598393),\n",
       " (735.14999999999998, 412000000, 129.72083937227802),\n",
       " (736.14999999999998, 413000000, 130.84511620151136),\n",
       " (737.14999999999998, 414000000, 131.97568943064567),\n",
       " (738.14999999999998, 415000000, 133.11257005809415),\n",
       " (739.14999999999998, 416000000, 134.2557689977097),\n",
       " (740.14999999999998, 417000000, 135.4052970789067),\n",
       " (741.14999999999998, 418000000, 136.5611650467983),\n",
       " (742.14999999999998, 419000000, 137.7233835623197),\n",
       " (743.14999999999998, 420000000, 138.891963202374),\n",
       " (744.14999999999998, 421000000, 140.06691445996861),\n",
       " (745.14999999999998, 422000000, 141.24824774435749),\n",
       " (746.14999999999998, 423000000, 142.4359733811969),\n",
       " (747.14999999999998, 424000000, 143.63010161268232),\n",
       " (748.14999999999998, 425000000, 144.83064259771535),\n",
       " (749.14999999999998, 426000000, 146.0376064120519),\n",
       " (750.14999999999998, 427000000, 147.25100304846373),\n",
       " (751.14999999999998, 428000000, 148.47084241690303),\n",
       " (752.14999999999998, 429000000, 149.69713434466385),\n",
       " (753.14999999999998, 430000000, 150.9298885765577),\n",
       " (754.14999999999998, 431000000, 152.1691147750775),\n",
       " (755.14999999999998, 432000000, 153.41482252057472),\n",
       " (756.14999999999998, 433000000, 154.66702131144237),\n",
       " (757.14999999999998, 434000000, 155.92572056427835),\n",
       " (758.14999999999998, 435000000, 157.1909296140927),\n",
       " (759.14999999999998, 436000000, 158.46265771446738),\n",
       " (760.14999999999998, 437000000, 159.7409140377601),\n",
       " (761.14999999999998, 438000000, 161.02570767529295),\n",
       " (762.14999999999998, 439000000, 162.3170476375343),\n",
       " (763.14999999999998, 440000000, 163.61494285430777),\n",
       " (764.14999999999998, 441000000, 164.9194021749804),\n",
       " (765.14999999999998, 442000000, 166.23043436867084),\n",
       " (766.14999999999998, 443000000, 167.5480481244457),\n",
       " (767.14999999999998, 444000000, 168.8722520515201),\n",
       " (768.14999999999998, 445000000, 170.20305467947358),\n",
       " (769.14999999999998, 446000000, 171.54046445846117),\n",
       " (770.14999999999998, 447000000, 172.88448975941083),\n",
       " (771.14999999999998, 448000000, 174.23513887424863),\n",
       " (772.14999999999998, 449000000, 175.59242001611094),\n",
       " (773.14999999999998, 450000000, 176.956341319561)]"
      ]
     },
     "execution_count": 142,
     "metadata": {},
     "output_type": "execute_result"
    }
   ],
   "source": [
    "temp = (450,500)\n",
    "pressure = (400,500)\n",
    "\n",
    "f = FugacityCalculator(temp,pressure)\n",
    "e = f.calculate_fugacity()\n",
    "e"
   ]
  },
  {
   "cell_type": "code",
   "execution_count": 66,
   "metadata": {
    "collapsed": false
   },
   "outputs": [
    {
     "data": {
      "text/plain": [
       "10"
      ]
     },
     "execution_count": 66,
     "metadata": {},
     "output_type": "execute_result"
    }
   ],
   "source": [
    "r = range(0,10)\n",
    "len(r)"
   ]
  },
  {
   "cell_type": "code",
   "execution_count": 65,
   "metadata": {
    "collapsed": false
   },
   "outputs": [
    {
     "data": {
      "text/plain": [
       "10"
      ]
     },
     "execution_count": 65,
     "metadata": {},
     "output_type": "execute_result"
    }
   ],
   "source": [
    "cs = np.zeros([10]) # Create blank array\n",
    "len(cs)"
   ]
  },
  {
   "cell_type": "code",
   "execution_count": 138,
   "metadata": {
    "collapsed": true
   },
   "outputs": [],
   "source": [
    "f = [(1,2,3),(4,5,6)]"
   ]
  },
  {
   "cell_type": "code",
   "execution_count": 139,
   "metadata": {
    "collapsed": false
   },
   "outputs": [
    {
     "data": {
      "text/plain": [
       "3"
      ]
     },
     "execution_count": 139,
     "metadata": {},
     "output_type": "execute_result"
    }
   ],
   "source": []
  },
  {
   "cell_type": "code",
   "execution_count": null,
   "metadata": {
    "collapsed": true
   },
   "outputs": [],
   "source": []
  }
 ],
 "metadata": {
  "kernelspec": {
   "display_name": "Python [conda root]",
   "language": "python",
   "name": "conda-root-py"
  },
  "language_info": {
   "codemirror_mode": {
    "name": "ipython",
    "version": 2
   },
   "file_extension": ".py",
   "mimetype": "text/x-python",
   "name": "python",
   "nbconvert_exporter": "python",
   "pygments_lexer": "ipython2",
   "version": "2.7.12"
  }
 },
 "nbformat": 4,
 "nbformat_minor": 1
}
