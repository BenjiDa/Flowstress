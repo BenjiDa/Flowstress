{
 "cells": [
  {
   "cell_type": "code",
   "execution_count": 56,
   "metadata": {
    "collapsed": false
   },
   "outputs": [],
   "source": [
    "\n",
    "import numpy as np \n",
    "from scipy.constants.constants import C2K\n",
    "import math\n",
    "from scipy import optimize as opt # for optimization\n"
   ]
  },
  {
   "cell_type": "code",
   "execution_count": 57,
   "metadata": {
    "collapsed": false
   },
   "outputs": [],
   "source": [
    " #Calculating equation of state and fugacity\n",
    "\n",
    "#Solve Equation of state, Eq 2 of Pitzer and Sterner (1994)\n",
    "#Returns pressure in Pa\n",
    "def eos(T, V):\n",
    "    den = 1/V\n",
    "    R = 8314472\n",
    "    var_num = cs[2]+2*cs[3]*den+3*cs[4]*math.pow(den,2)+4*cs[5]*math.pow(den,3)\n",
    "    var_denom = math.pow((cs[1]+cs[2]*den+cs[3]*math.pow(den,2)+cs[4]*math.pow(den,3)+cs[5]*math.pow(den,4)),2)\n",
    "    pressure=den+cs[0]*math.pow(den,2)-math.pow(den,2)*(var_num/var_denom)\n",
    "    pressure= pressure + (cs[6]*math.pow(den,2)*math.exp(-cs[7]*den)+cs[8]*math.pow(den,2)*math.exp(-cs[9]*den))\n",
    "    pressure = pressure*(R*T) #pressure in Pa\n",
    "    return pressure\n",
    "\n",
    "#Solve for fugacity, Eq 1 of Pitzer and Sterner (1994)\n",
    "#Returns fugacity in MPa\n",
    "def PSfug(P,T,V):\n",
    "    den=1/V;\n",
    "    R=8314472;\n",
    "    quotient = cs[0]*den+(1/(cs[1]+cs[2]*den+cs[3]*math.pow(den,2)+cs[4]*math.pow(den,3)+cs[5]*math.pow(den,4))-1/cs[1])\n",
    "    quotient-= cs[6]/cs[7]*(math.exp(-cs[7]*den)-1)\n",
    "    quotient-= cs[8]/cs[9]*(math.exp(-cs[9]*den)-1)\n",
    "    lnf=(math.log(den)+ quotient+P/(den*R*T))+math.log(R*T)-1\n",
    "    return math.exp(lnf)/1e6 # fugacity in MPa\n",
    "\n",
    "#Optimizing equation to solve for volume\n",
    "def fugacity_calculator(temperature,pressure):\n",
    "\n",
    "    def fun(v):\n",
    "        return eos(temperature, v)- pressure\n",
    "    volume = opt.brentq(fun, 5, 30) #Volume in cc/mol\n",
    "\n",
    "    #Calculate fugacity \n",
    "    fugacity = PSfug(pressure, temperature, volume)\n",
    "    \n",
    "    return fugacity\n"
   ]
  },
  {
   "cell_type": "code",
   "execution_count": 58,
   "metadata": {
    "collapsed": false
   },
   "outputs": [],
   "source": [
    "PScoeff = np.zeros([10,10])\n",
    "\n",
    "PScoeff[0][2]=0.24657688*math.pow(10,6)\n",
    "PScoeff[0][3]=0.51359951*math.pow(10,2) \n",
    "PScoeff[1][2]=0.58638965*math.pow(10,0) \n",
    "PScoeff[1][3]=-0.28646939*math.pow(10,-2) \n",
    "PScoeff[1][4]=0.31375577*math.pow(10,-4) \n",
    "PScoeff[2][2]=-0.62783840*math.pow(10,1) \n",
    "PScoeff[2][3]=0.14791599*math.pow(10,-1) \n",
    "PScoeff[2][4]=0.35779579*math.pow(10,-3) \n",
    "PScoeff[2][5]=0.15432925*math.pow(10,-7) \n",
    "PScoeff[3][3]=-0.42719875*math.pow(10,0) \n",
    "PScoeff[3][4]=-0.16325155*math.pow(10,-4) \n",
    "PScoeff[4][2]=0.56654978*math.pow(10,4) \n",
    "PScoeff[4][3]=-0.16580167*math.pow(10,2) \n",
    "PScoeff[4][4]=0.76560762*math.pow(10,-1) \n",
    "PScoeff[5][3]=0.10917883*math.pow(10,0) \n",
    "PScoeff[6][0]=0.38878656*math.pow(10,13) \n",
    "PScoeff[6][1]=-0.13494878*math.pow(10,9) \n",
    "PScoeff[6][2]=0.30916564*math.pow(10,6)\n",
    "PScoeff[6][3]=0.75591105*math.pow(10,1) \n",
    "PScoeff[7][2]=-0.65537898*math.pow(10,5) \n",
    "PScoeff[7][3]=0.18810675*math.pow(10,3) \n",
    "PScoeff[8][0]=-0.14182435*math.pow(10,14) \n",
    "PScoeff[8][1]=0.18165390*math.pow(10,9) \n",
    "PScoeff[8][2]=-0.19769068*math.pow(10,6)\n",
    "PScoeff[8][3]=-0.23530318*math.pow(10,2)\n",
    "PScoeff[9][2]=0.92093375*math.pow(10,5)\n",
    "PScoeff[9][3]=0.12246777*math.pow(10,3)\n",
    "\n",
    "cs = np.zeros([10]) \n",
    "\n",
    "def calculate_coefficient_table(temperature):\n",
    "    for i in range(0, len(PScoeff)):\n",
    "        cs[i]=PScoeff[i][0]*math.pow(temperature,-4)+PScoeff[i][1]*math.pow(temperature,-2)\\\n",
    "        +PScoeff[i][2]*math.pow(temperature,-1)\\\n",
    "        +PScoeff[i][3]+PScoeff[i][4]*temperature+PScoeff[i][5]*math.pow(temperature,2)\n",
    "\n",
    "class FugacityCalculator():\n",
    "    def __init__(self, temperature_values, pressure_values):\n",
    "        if len(temperature_values) > 1:\n",
    "            self.temperature = C2K(np.arange(temperature_values[0],temperature_values[1]+1))\n",
    "        else:# len(temperature_values) == 1:\n",
    "            self.temperature = C2K(temperature_values)\n",
    "        self.pressure = self.convert_mpa_to_pa(pressure_values)\n",
    "        self.temperature_and_pressure = self.combine_temp_and_pressure_values()\n",
    "    \n",
    "    @staticmethod\n",
    "    def convert_mpa_to_pa(pressure_values):\n",
    "        if len(pressure_values) > 1:\n",
    "            pressures = np.arange(pressure_values[0],pressure_values[1]+1)\n",
    "            for i,p in enumerate(pressures):\n",
    "                Ppa = p*1.0E6\n",
    "                pressures[i] = Ppa\n",
    "        else:# len(pressure_values) == 1:\n",
    "            pressures = np.array(pressure_values)*1.0E6\n",
    "        return pressures \n",
    "    \n",
    "    def combine_temp_and_pressure_values(self):\n",
    "        all_values = []         \n",
    "        if len(self.temperature)>1:    \n",
    "            for i,temp in enumerate(self.temperature):\n",
    "                temp_and_pressure = (temp,self.pressure[i])\n",
    "                all_values.append(temp_and_pressure)\n",
    "        else:\n",
    "              all_values = (float(self.temperature), float(self.pressure))\n",
    "        return all_values\n",
    "        \n",
    "    def calculate_fugacity(self): \n",
    "        temperature_pressure_fugacity = []\n",
    "        if len(self.temperature)>1:\n",
    "            for t,p in self.temperature_and_pressure: \n",
    "                calculate_coefficient_table(t)\n",
    "                fugacity = fugacity_calculator(t,p)\n",
    "                values = (t,p,fugacity)\n",
    "                temperature_pressure_fugacity.append(values)\n",
    "        \n",
    "        else:\n",
    "            calculate_coefficient_table(self.temperature_and_pressure[0])\n",
    "            fugacity = fugacity_calculator(self.temperature_and_pressure[0], self.temperature_and_pressure[1])\n",
    "            temperature_pressure_fugacity = [(self.temperature_and_pressure[0], self.temperature_and_pressure[1], fugacity)]\n",
    "        return temperature_pressure_fugacity\n",
    "            \n",
    "        \n",
    "            \n",
    "    \n",
    "    "
   ]
  },
  {
   "cell_type": "code",
   "execution_count": 170,
   "metadata": {
    "collapsed": false
   },
   "outputs": [
    {
     "name": "stdout",
     "output_type": "stream",
     "text": [
      "[(723.15, 400000000.0, 116.71651725233453)]\n"
     ]
    },
    {
     "data": {
      "text/plain": [
       "list"
      ]
     },
     "execution_count": 170,
     "metadata": {},
     "output_type": "execute_result"
    }
   ],
   "source": [
    "temp = [450]\n",
    "pressure = [400]\n",
    "width = [30]\n",
    "\n",
    "\n",
    "f = FugacityCalculator(temp,pressure)\n",
    "fugacity_calculations = f.calculate_fugacity()\n",
    "\n",
    "print(fugacity_calculations)\n",
    "type(fugacity_calculations)\n"
   ]
  },
  {
   "cell_type": "code",
   "execution_count": 171,
   "metadata": {
    "collapsed": false
   },
   "outputs": [],
   "source": [
    "CONSTANT_B = 2451\n",
    "EXPONENT = -1.26\n",
    "\n",
    "\n",
    "FLOW_LAWS = {\n",
    "    \"KT84\": {\"A\": 2.2E-6, \"n\": 2.7, \"Q\": 1.2E5},\n",
    "    'GT95wm': {\"A\": 1.8E-8, \"n\": 4, \"Q\": 1.37E5},\n",
    "    'J84': {\"A\": 2.88E-3, \"n\": 1.8, \"Q\": 1.51E5},\n",
    "    'K89': {\"A\": 1.1E-6, \"n\": 2.7, \"Q\": 1.34E5},\n",
    "    'HC82': {\"A\": 1.99E-2, \"n\": 1.8, \"Q\": 1.67E5},\n",
    "    'LP92g': {\"A\": 6.6E-8, \"n\": 3.1, \"Q\": 1.35E5},\n",
    "    'LP92a': {\"A\": 3.98E-10, \"n\": 4, \"Q\": 1.35E5},\n",
    "    \"H01\":  {\"A\": 6.3E-12, \"n\": 4, \"Q\": 1.35E5}, \n",
    "    \"RB04\": {\"A\": 1.2E-5, \"n\": 2.97, \"Q\": 2.42E5}\n",
    "    }\n",
    "\n",
    "def calculate_differential_stress(grain_size):\n",
    "    differential_stress = []\n",
    "    for grain in grain_size:\n",
    "        part = (math.log(grain)-math.log(CONSTANT_B))/EXPONENT\n",
    "        part2 = math.exp(part)\n",
    "        differential_stress.append(part2)\n",
    "    return differential_stress\n",
    "\n",
    "def calculate_strain_rate(differential_stress, fugacity_calculations, flow_law=None): \n",
    "\n",
    "    strain_rate = []\n",
    "    \n",
    "    for temperature, pressure, fugacity in fugacity_calculations:\n",
    "        for stress in differential_stress:\n",
    "            sr = (FLOW_LAWS[flow_law]['A']*np.power(stress, FLOW_LAWS[flow_law]['n'])*np.power(fugacity,1)*np.exp(-FLOW_LAWS[flow_law]['Q']/(8.3144598*temperature)))\n",
    "            srn = np.float64(sr).item()\n",
    "            strain_rate.append(srn)\n",
    "    return strain_rate"
   ]
  },
  {
   "cell_type": "code",
   "execution_count": 196,
   "metadata": {
    "collapsed": false
   },
   "outputs": [
    {
     "name": "stdout",
     "output_type": "stream",
     "text": [
      "[136.52648537471026, 118.13392985387905, 104.53031972346173, 94.01928064508654, 85.62876571387406, 78.75972939002484]\n",
      "[4.531006459159163e-11, 2.539952800139547e-11, 1.557027041956803e-11, 1.0190482238009338e-11, 7.011416659380618e-12, 5.01815303331492e-12]\n"
     ]
    }
   ],
   "source": [
    "grain_size = [5, 6, 7, 8, 9, 10]\n",
    "s = calculate_differential_stress(grain_size)\n",
    "print(s)\n",
    "sr = calculate_strain_rate(s, fugacity_calculations, flow_law='H01')\n",
    "\n",
    "print(sr)\n",
    "\n",
    "# srn = [np.float64(sr).item()] #convert from numpy to native python\n"
   ]
  },
  {
   "cell_type": "code",
   "execution_count": 184,
   "metadata": {
    "collapsed": false
   },
   "outputs": [],
   "source": [
    "width = [30, 40]"
   ]
  },
  {
   "cell_type": "code",
   "execution_count": 185,
   "metadata": {
    "collapsed": false
   },
   "outputs": [],
   "source": [
    "def calculate_slip_rate(strain_rate, width): #width in m, output of mm/yr\n",
    "    velocities = []\n",
    "    \n",
    "    for w in width: \n",
    "\n",
    "        for strain in strain_rate:\n",
    "        \n",
    "            vel = w*1000*31536000*strain\n",
    "            velocities.append(vel)\n",
    "        \n",
    "    return velocities\n",
    "\n",
    "\n"
   ]
  },
  {
   "cell_type": "code",
   "execution_count": 186,
   "metadata": {
    "collapsed": false
   },
   "outputs": [
    {
     "name": "stdout",
     "output_type": "stream",
     "text": [
      "[4.531006459159163e-11, 2.539952800139547e-11, 1.557027041956803e-11, 1.0190482238009338e-11, 7.011416659380618e-12, 5.01815303331492e-12]\n"
     ]
    }
   ],
   "source": [
    "\n",
    "v = calculate_slip_rate(sr, width)\n",
    "print(sr)"
   ]
  },
  {
   "cell_type": "code",
   "execution_count": 209,
   "metadata": {
    "collapsed": false
   },
   "outputs": [],
   "source": [
    "#grain_size = [5, 6, 7, 8, 9, 10]\n",
    "def simulate_width(slip_rate, strain_rate):\n",
    "    #v=w*e\n",
    "    width = []\n",
    "    for slip in slip_rate:\n",
    "        for strain in strain_rate:\n",
    "            w = (slip/(strain*31536000))/1000\n",
    "            if w < 30:\n",
    "                \n",
    "                width.append(w)\n",
    "            else:\n",
    "                width.append(str(\"ERROR: Too wide\"))\n",
    "            \n",
    "    return width\n",
    "\n",
    "\n",
    "def simulate_slip_and_strain(width, slip_rate, strain_rate):\n",
    "    slip = []\n",
    "    strain = []\n",
    "    for w in width:\n",
    "        sl = strain_rate*31536000*w*1000\n",
    "        st = sl*(1/31536000)*w*1000\n",
    "        \n",
    "        slip.append(sl)\n",
    "        strain.append(st)\n",
    "    return slip, strain\n",
    "        "
   ]
  },
  {
   "cell_type": "code",
   "execution_count": null,
   "metadata": {
    "collapsed": false
   },
   "outputs": [],
   "source": [
    "w = simulate_width([42], sr)\n",
    "print(w)\n",
    "\n",
    "# width = [30, 25, 20]\n",
    "# v, e = simulate_slip_and_strain(width)"
   ]
  },
  {
   "cell_type": "code",
   "execution_count": null,
   "metadata": {
    "collapsed": false
   },
   "outputs": [],
   "source": []
  },
  {
   "cell_type": "code",
   "execution_count": null,
   "metadata": {
    "collapsed": false
   },
   "outputs": [],
   "source": []
  },
  {
   "cell_type": "code",
   "execution_count": null,
   "metadata": {
    "collapsed": true
   },
   "outputs": [],
   "source": []
  }
 ],
 "metadata": {
  "anaconda-cloud": {},
  "kernelspec": {
   "display_name": "Python [conda root]",
   "language": "python",
   "name": "conda-root-py"
  },
  "language_info": {
   "codemirror_mode": {
    "name": "ipython",
    "version": 2
   },
   "file_extension": ".py",
   "mimetype": "text/x-python",
   "name": "python",
   "nbconvert_exporter": "python",
   "pygments_lexer": "ipython2",
   "version": "2.7.12"
  }
 },
 "nbformat": 4,
 "nbformat_minor": 1
}
