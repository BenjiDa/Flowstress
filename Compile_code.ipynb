{
 "cells": [
  {
   "cell_type": "code",
   "execution_count": 1,
   "metadata": {
    "collapsed": true
   },
   "outputs": [],
   "source": [
    "import numpy as np \n",
    "from scipy.constants.constants import C2K\n",
    "import math\n",
    "from scipy import optimize as opt # for optimization\n"
   ]
  },
  {
   "cell_type": "code",
   "execution_count": 2,
   "metadata": {
    "collapsed": false
   },
   "outputs": [],
   "source": [
    " #Calculating equation of state and fugacity\n",
    "\n",
    "#Solve Equation of state, Eq 2 of Pitzer and Sterner (1994)\n",
    "#Returns pressure in Pa\n",
    "def eos(T, V):\n",
    "    den = 1/V\n",
    "    R = 8314472\n",
    "    var_num = cs[2]+2*cs[3]*den+3*cs[4]*math.pow(den,2)+4*cs[5]*math.pow(den,3)\n",
    "    var_denom = math.pow((cs[1]+cs[2]*den+cs[3]*math.pow(den,2)+cs[4]*math.pow(den,3)+cs[5]*math.pow(den,4)),2)\n",
    "    pressure=den+cs[0]*math.pow(den,2)-math.pow(den,2)*(var_num/var_denom)\n",
    "    pressure= pressure + (cs[6]*math.pow(den,2)*math.exp(-cs[7]*den)+cs[8]*math.pow(den,2)*math.exp(-cs[9]*den))\n",
    "    pressure = pressure*(R*T) #pressure in Pa\n",
    "    return pressure\n",
    "\n",
    "#Solve for fugacity, Eq 1 of Pitzer and Sterner (1994)\n",
    "#Returns fugacity in MPa\n",
    "def PSfug(P,T,V):\n",
    "    den=1/V;\n",
    "    R=8314472;\n",
    "    quotient = cs[0]*den+(1/(cs[1]+cs[2]*den+cs[3]*math.pow(den,2)+cs[4]*math.pow(den,3)+cs[5]*math.pow(den,4))-1/cs[1])\n",
    "    quotient-= cs[6]/cs[7]*(math.exp(-cs[7]*den)-1)\n",
    "    quotient-= cs[8]/cs[9]*(math.exp(-cs[9]*den)-1)\n",
    "    lnf=(math.log(den)+ quotient+P/(den*R*T))+math.log(R*T)-1\n",
    "    return math.exp(lnf)/1e6 # fugacity in MPa\n",
    "\n",
    "#Optimizing equation to solve for volume\n",
    "def fugacity_calculator(temperature,pressure):\n",
    "\n",
    "    def fun(v):\n",
    "        return eos(temperature, v)- pressure\n",
    "    volume = opt.brentq(fun, 5, 30) #Volume in cc/mol\n",
    "\n",
    "    #Calculate fugacity \n",
    "    fugacity = PSfug(pressure, temperature, volume)\n",
    "    \n",
    "    return fugacity\n"
   ]
  },
  {
   "cell_type": "code",
   "execution_count": 127,
   "metadata": {
    "collapsed": false
   },
   "outputs": [],
   "source": [
    "PScoeff = np.zeros([10,10])\n",
    "\n",
    "PScoeff[0][2]=0.24657688*math.pow(10,6)\n",
    "PScoeff[0][3]=0.51359951*math.pow(10,2) \n",
    "PScoeff[1][2]=0.58638965*math.pow(10,0) \n",
    "PScoeff[1][3]=-0.28646939*math.pow(10,-2) \n",
    "PScoeff[1][4]=0.31375577*math.pow(10,-4) \n",
    "PScoeff[2][2]=-0.62783840*math.pow(10,1) \n",
    "PScoeff[2][3]=0.14791599*math.pow(10,-1) \n",
    "PScoeff[2][4]=0.35779579*math.pow(10,-3) \n",
    "PScoeff[2][5]=0.15432925*math.pow(10,-7) \n",
    "PScoeff[3][3]=-0.42719875*math.pow(10,0) \n",
    "PScoeff[3][4]=-0.16325155*math.pow(10,-4) \n",
    "PScoeff[4][2]=0.56654978*math.pow(10,4) \n",
    "PScoeff[4][3]=-0.16580167*math.pow(10,2) \n",
    "PScoeff[4][4]=0.76560762*math.pow(10,-1) \n",
    "PScoeff[5][3]=0.10917883*math.pow(10,0) \n",
    "PScoeff[6][0]=0.38878656*math.pow(10,13) \n",
    "PScoeff[6][1]=-0.13494878*math.pow(10,9) \n",
    "PScoeff[6][2]=0.30916564*math.pow(10,6)\n",
    "PScoeff[6][3]=0.75591105*math.pow(10,1) \n",
    "PScoeff[7][2]=-0.65537898*math.pow(10,5) \n",
    "PScoeff[7][3]=0.18810675*math.pow(10,3) \n",
    "PScoeff[8][0]=-0.14182435*math.pow(10,14) \n",
    "PScoeff[8][1]=0.18165390*math.pow(10,9) \n",
    "PScoeff[8][2]=-0.19769068*math.pow(10,6)\n",
    "PScoeff[8][3]=-0.23530318*math.pow(10,2)\n",
    "PScoeff[9][2]=0.92093375*math.pow(10,5)\n",
    "PScoeff[9][3]=0.12246777*math.pow(10,3)\n",
    "\n",
    "cs = np.zeros([10]) \n",
    "\n",
    "def calculate_coefficient_table(temperature):\n",
    "    for i in range(0, len(PScoeff)):\n",
    "        cs[i]=PScoeff[i][0]*math.pow(temperature,-4)+PScoeff[i][1]*math.pow(temperature,-2)\\\n",
    "        +PScoeff[i][2]*math.pow(temperature,-1)\\\n",
    "        +PScoeff[i][3]+PScoeff[i][4]*temperature+PScoeff[i][5]*math.pow(temperature,2)\n",
    "\n",
    "class FugacityCalculator():\n",
    "    def __init__(self, temperature_values, pressure_values):\n",
    "        if isinstance(temperature_values, (list, tuple)):\n",
    "            self.temperature = C2K(np.arange(temperature_values[0],temperature_values[1]+1))\n",
    "        else:\n",
    "            self.temperature = C2K(temperature_values)\n",
    "        self.pressure = self.convert_mpa_to_pa(pressure_values)\n",
    "        self.temperature_and_pressure = self.combine_temp_and_pressure_values()\n",
    "    \n",
    "    @staticmethod\n",
    "    def convert_mpa_to_pa(pressure_values):\n",
    "        if isinstance(pressure_values, (list, tuple)):\n",
    "            pressures = np.arange(pressure_values[0],pressure_values[1]+1)\n",
    "            for i,p in enumerate(pressures):\n",
    "                Ppa = round(p*1.0E6)\n",
    "                pressures[i] = Ppa\n",
    "        else:\n",
    "            Mpa = pressure_values\n",
    "            pressures = round(Mpa*1.0E6)\n",
    "        \n",
    "        return pressures \n",
    "    \n",
    "    def combine_temp_and_pressure_values(self):\n",
    "        all_values = []         \n",
    "        if isinstance(self.temperature, (list, tuple)):\n",
    "            for i,temp in enumerate(self.temperature):\n",
    "                temp_and_pressure = (temp,self.pressure[i])\n",
    "                all_values.append(temp_and_pressure)\n",
    "        else:\n",
    "             temp_and_pressure = (self.temperature, self.pressure)\n",
    "        return all_values, temp_and_pressure\n",
    "        \n",
    "    def calculate_fugacity(self): \n",
    "        temperature_pressure_fugacity = []\n",
    "        if isinstance(self.temperature, (list, tuple)):\n",
    "            for t,p in self.temperature_and_pressure: \n",
    "                calculate_coefficient_table(t)\n",
    "                fugacity = fugacity_calculator(t,p)\n",
    "                values = (t,p,fugacity)\n",
    "                temperature_pressure_fugacity.append(values)\n",
    "        else:\n",
    "            calculate_coefficient_table(self.temperature)\n",
    "            fugacity = fugacity_calculator(self.temperature, self.pressure)\n",
    "            temperature_pressure_fugacity = (self.temperature, self.pressure, fugacity)\n",
    "        \n",
    "            \n",
    "        return temperature_pressure_fugacity\n",
    "            \n",
    "    \n",
    "    "
   ]
  },
  {
   "cell_type": "code",
   "execution_count": 126,
   "metadata": {
    "collapsed": false
   },
   "outputs": [
    {
     "ename": "TypeError",
     "evalue": "only length-1 arrays can be converted to Python scalars",
     "output_type": "error",
     "traceback": [
      "\u001b[0;31m---------------------------------------------------------------------------\u001b[0m",
      "\u001b[0;31mTypeError\u001b[0m                                 Traceback (most recent call last)",
      "\u001b[0;32m<ipython-input-126-2470aa0a5347>\u001b[0m in \u001b[0;36m<module>\u001b[0;34m()\u001b[0m\n\u001b[1;32m      6\u001b[0m \u001b[0;31m# e = f.calculate_fugacity()\u001b[0m\u001b[0;34m\u001b[0m\u001b[0;34m\u001b[0m\u001b[0m\n\u001b[1;32m      7\u001b[0m \u001b[0;31m# e\u001b[0m\u001b[0;34m\u001b[0m\u001b[0;34m\u001b[0m\u001b[0m\n\u001b[0;32m----> 8\u001b[0;31m \u001b[0me\u001b[0m \u001b[0;34m=\u001b[0m \u001b[0mf\u001b[0m\u001b[0;34m.\u001b[0m\u001b[0mcalculate_fugacity\u001b[0m\u001b[0;34m(\u001b[0m\u001b[0;34m)\u001b[0m\u001b[0;34m\u001b[0m\u001b[0m\n\u001b[0m\u001b[1;32m      9\u001b[0m \u001b[0;34m\u001b[0m\u001b[0m\n",
      "\u001b[0;32m<ipython-input-123-4a959b49291e>\u001b[0m in \u001b[0;36mcalculate_fugacity\u001b[0;34m(self)\u001b[0m\n\u001b[1;32m     77\u001b[0m         \u001b[0;31m#print(self.temperature, self.pressure)\u001b[0m\u001b[0;34m\u001b[0m\u001b[0;34m\u001b[0m\u001b[0m\n\u001b[1;32m     78\u001b[0m         \u001b[0;32melse\u001b[0m\u001b[0;34m:\u001b[0m\u001b[0;34m\u001b[0m\u001b[0m\n\u001b[0;32m---> 79\u001b[0;31m             \u001b[0mcalculate_coefficient_table\u001b[0m\u001b[0;34m(\u001b[0m\u001b[0mself\u001b[0m\u001b[0;34m.\u001b[0m\u001b[0mtemperature\u001b[0m\u001b[0;34m)\u001b[0m\u001b[0;34m\u001b[0m\u001b[0m\n\u001b[0m\u001b[1;32m     80\u001b[0m             \u001b[0mfugacity\u001b[0m \u001b[0;34m=\u001b[0m \u001b[0mfugacity_calculator\u001b[0m\u001b[0;34m(\u001b[0m\u001b[0mself\u001b[0m\u001b[0;34m.\u001b[0m\u001b[0mtemperature\u001b[0m\u001b[0;34m,\u001b[0m \u001b[0mself\u001b[0m\u001b[0;34m.\u001b[0m\u001b[0mpressure\u001b[0m\u001b[0;34m)\u001b[0m\u001b[0;34m\u001b[0m\u001b[0m\n\u001b[1;32m     81\u001b[0m             \u001b[0mtemperature_pressure_fugacity\u001b[0m \u001b[0;34m=\u001b[0m \u001b[0;34m(\u001b[0m\u001b[0mself\u001b[0m\u001b[0;34m.\u001b[0m\u001b[0mtemperature\u001b[0m\u001b[0;34m,\u001b[0m \u001b[0mself\u001b[0m\u001b[0;34m.\u001b[0m\u001b[0mpressure\u001b[0m\u001b[0;34m,\u001b[0m \u001b[0mfugacity\u001b[0m\u001b[0;34m)\u001b[0m\u001b[0;34m\u001b[0m\u001b[0m\n",
      "\u001b[0;32m<ipython-input-123-4a959b49291e>\u001b[0m in \u001b[0;36mcalculate_coefficient_table\u001b[0;34m(temperature)\u001b[0m\n\u001b[1;32m     33\u001b[0m \u001b[0;32mdef\u001b[0m \u001b[0mcalculate_coefficient_table\u001b[0m\u001b[0;34m(\u001b[0m\u001b[0mtemperature\u001b[0m\u001b[0;34m)\u001b[0m\u001b[0;34m:\u001b[0m\u001b[0;34m\u001b[0m\u001b[0m\n\u001b[1;32m     34\u001b[0m     \u001b[0;32mfor\u001b[0m \u001b[0mi\u001b[0m \u001b[0;32min\u001b[0m \u001b[0mrange\u001b[0m\u001b[0;34m(\u001b[0m\u001b[0;36m0\u001b[0m\u001b[0;34m,\u001b[0m \u001b[0mlen\u001b[0m\u001b[0;34m(\u001b[0m\u001b[0mPScoeff\u001b[0m\u001b[0;34m)\u001b[0m\u001b[0;34m)\u001b[0m\u001b[0;34m:\u001b[0m\u001b[0;34m\u001b[0m\u001b[0m\n\u001b[0;32m---> 35\u001b[0;31m         \u001b[0mcs\u001b[0m\u001b[0;34m[\u001b[0m\u001b[0mi\u001b[0m\u001b[0;34m]\u001b[0m\u001b[0;34m=\u001b[0m\u001b[0mPScoeff\u001b[0m\u001b[0;34m[\u001b[0m\u001b[0mi\u001b[0m\u001b[0;34m]\u001b[0m\u001b[0;34m[\u001b[0m\u001b[0;36m0\u001b[0m\u001b[0;34m]\u001b[0m\u001b[0;34m*\u001b[0m\u001b[0mmath\u001b[0m\u001b[0;34m.\u001b[0m\u001b[0mpow\u001b[0m\u001b[0;34m(\u001b[0m\u001b[0mtemperature\u001b[0m\u001b[0;34m,\u001b[0m\u001b[0;34m-\u001b[0m\u001b[0;36m4\u001b[0m\u001b[0;34m)\u001b[0m\u001b[0;34m+\u001b[0m\u001b[0mPScoeff\u001b[0m\u001b[0;34m[\u001b[0m\u001b[0mi\u001b[0m\u001b[0;34m]\u001b[0m\u001b[0;34m[\u001b[0m\u001b[0;36m1\u001b[0m\u001b[0;34m]\u001b[0m\u001b[0;34m*\u001b[0m\u001b[0mmath\u001b[0m\u001b[0;34m.\u001b[0m\u001b[0mpow\u001b[0m\u001b[0;34m(\u001b[0m\u001b[0mtemperature\u001b[0m\u001b[0;34m,\u001b[0m\u001b[0;34m-\u001b[0m\u001b[0;36m2\u001b[0m\u001b[0;34m)\u001b[0m        \u001b[0;34m+\u001b[0m\u001b[0mPScoeff\u001b[0m\u001b[0;34m[\u001b[0m\u001b[0mi\u001b[0m\u001b[0;34m]\u001b[0m\u001b[0;34m[\u001b[0m\u001b[0;36m2\u001b[0m\u001b[0;34m]\u001b[0m\u001b[0;34m*\u001b[0m\u001b[0mmath\u001b[0m\u001b[0;34m.\u001b[0m\u001b[0mpow\u001b[0m\u001b[0;34m(\u001b[0m\u001b[0mtemperature\u001b[0m\u001b[0;34m,\u001b[0m\u001b[0;34m-\u001b[0m\u001b[0;36m1\u001b[0m\u001b[0;34m)\u001b[0m        \u001b[0;34m+\u001b[0m\u001b[0mPScoeff\u001b[0m\u001b[0;34m[\u001b[0m\u001b[0mi\u001b[0m\u001b[0;34m]\u001b[0m\u001b[0;34m[\u001b[0m\u001b[0;36m3\u001b[0m\u001b[0;34m]\u001b[0m\u001b[0;34m+\u001b[0m\u001b[0mPScoeff\u001b[0m\u001b[0;34m[\u001b[0m\u001b[0mi\u001b[0m\u001b[0;34m]\u001b[0m\u001b[0;34m[\u001b[0m\u001b[0;36m4\u001b[0m\u001b[0;34m]\u001b[0m\u001b[0;34m*\u001b[0m\u001b[0mtemperature\u001b[0m\u001b[0;34m+\u001b[0m\u001b[0mPScoeff\u001b[0m\u001b[0;34m[\u001b[0m\u001b[0mi\u001b[0m\u001b[0;34m]\u001b[0m\u001b[0;34m[\u001b[0m\u001b[0;36m5\u001b[0m\u001b[0;34m]\u001b[0m\u001b[0;34m*\u001b[0m\u001b[0mmath\u001b[0m\u001b[0;34m.\u001b[0m\u001b[0mpow\u001b[0m\u001b[0;34m(\u001b[0m\u001b[0mtemperature\u001b[0m\u001b[0;34m,\u001b[0m\u001b[0;36m2\u001b[0m\u001b[0;34m)\u001b[0m\u001b[0;34m\u001b[0m\u001b[0m\n\u001b[0m\u001b[1;32m     36\u001b[0m \u001b[0;34m\u001b[0m\u001b[0m\n\u001b[1;32m     37\u001b[0m \u001b[0;32mclass\u001b[0m \u001b[0mFugacityCalculator\u001b[0m\u001b[0;34m(\u001b[0m\u001b[0;34m)\u001b[0m\u001b[0;34m:\u001b[0m\u001b[0;34m\u001b[0m\u001b[0m\n",
      "\u001b[0;31mTypeError\u001b[0m: only length-1 arrays can be converted to Python scalars"
     ]
    }
   ],
   "source": [
    "temp = (400, 500)#(450,500)\n",
    "pressure = (400, 500)\n",
    "\n",
    "\n",
    "f = FugacityCalculator(temp,pressure)\n",
    "# e = f.calculate_fugacity()\n",
    "# e\n",
    "e = f.calculate_fugacity()\n",
    "\n"
   ]
  },
  {
   "cell_type": "code",
   "execution_count": 108,
   "metadata": {
    "collapsed": false
   },
   "outputs": [
    {
     "data": {
      "text/plain": [
       "10"
      ]
     },
     "execution_count": 108,
     "metadata": {},
     "output_type": "execute_result"
    }
   ],
   "source": [
    "r = range(0,10)\n",
    "len(r)"
   ]
  },
  {
   "cell_type": "code",
   "execution_count": 65,
   "metadata": {
    "collapsed": false
   },
   "outputs": [
    {
     "data": {
      "text/plain": [
       "10"
      ]
     },
     "execution_count": 65,
     "metadata": {},
     "output_type": "execute_result"
    }
   ],
   "source": [
    "cs = np.zeros([10]) # Create blank array\n",
    "len(cs)"
   ]
  },
  {
   "cell_type": "code",
   "execution_count": 138,
   "metadata": {
    "collapsed": true
   },
   "outputs": [],
   "source": [
    "f = [(1,2,3),(4,5,6)]"
   ]
  },
  {
   "cell_type": "code",
   "execution_count": 139,
   "metadata": {
    "collapsed": false
   },
   "outputs": [
    {
     "data": {
      "text/plain": [
       "3"
      ]
     },
     "execution_count": 139,
     "metadata": {},
     "output_type": "execute_result"
    }
   ],
   "source": []
  },
  {
   "cell_type": "code",
   "execution_count": null,
   "metadata": {
    "collapsed": true
   },
   "outputs": [],
   "source": []
  }
 ],
 "metadata": {
  "anaconda-cloud": {},
  "kernelspec": {
   "display_name": "Python [conda root]",
   "language": "python",
   "name": "conda-root-py"
  },
  "language_info": {
   "codemirror_mode": {
    "name": "ipython",
    "version": 2
   },
   "file_extension": ".py",
   "mimetype": "text/x-python",
   "name": "python",
   "nbconvert_exporter": "python",
   "pygments_lexer": "ipython2",
   "version": "2.7.12"
  }
 },
 "nbformat": 4,
 "nbformat_minor": 1
}
